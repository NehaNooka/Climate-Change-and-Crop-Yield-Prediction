{
 "cells": [
  {
   "cell_type": "markdown",
   "id": "19f9a0bf",
   "metadata": {},
   "source": [
    "# **Data Pre-processing**"
   ]
  },
  {
   "cell_type": "markdown",
   "id": "bf493ce7",
   "metadata": {},
   "source": [
    "## Countries: China, USA, Brazil, Indonesia\n",
    "## Crops: Rice, Wheat, Corn, Soya Beans\n",
    "## Year: 2000-2021\n"
   ]
  },
  {
   "cell_type": "code",
   "execution_count": 1,
   "id": "3e1123f7",
   "metadata": {},
   "outputs": [],
   "source": [
    "import pandas as pd\n",
    "import numpy as np\n",
    "import matplotlib.pyplot as plt\n",
    "import seaborn as sns\n",
    "from sklearn.impute import KNNImputer\n",
    "from sklearn.preprocessing import OneHotEncoder\n",
    "from sklearn.model_selection import train_test_split\n",
    "from sklearn.metrics import mean_squared_error, mean_absolute_error\n",
    "from scipy.sparse import hstack, csr_matrix"
   ]
  },
  {
   "cell_type": "code",
   "execution_count": 2,
   "id": "1c0126aa",
   "metadata": {},
   "outputs": [],
   "source": [
    "import warnings\n",
    "# Suppress FutureWarnings\n",
    "warnings.simplefilter(action='ignore', category=FutureWarning)"
   ]
  },
  {
   "cell_type": "markdown",
   "id": "b289083b",
   "metadata": {},
   "source": [
    "## Crop_Production"
   ]
  },
  {
   "cell_type": "code",
   "execution_count": 3,
   "id": "fbb7e0a3",
   "metadata": {},
   "outputs": [
    {
     "data": {
      "text/html": [
       "<div>\n",
       "<style scoped>\n",
       "    .dataframe tbody tr th:only-of-type {\n",
       "        vertical-align: middle;\n",
       "    }\n",
       "\n",
       "    .dataframe tbody tr th {\n",
       "        vertical-align: top;\n",
       "    }\n",
       "\n",
       "    .dataframe thead th {\n",
       "        text-align: right;\n",
       "    }\n",
       "</style>\n",
       "<table border=\"1\" class=\"dataframe\">\n",
       "  <thead>\n",
       "    <tr style=\"text-align: right;\">\n",
       "      <th></th>\n",
       "      <th>Country</th>\n",
       "      <th>Prod_type</th>\n",
       "      <th>Crop_Name</th>\n",
       "      <th>Year</th>\n",
       "      <th>Crop_Production_Unit</th>\n",
       "      <th>Crop_Production_Value</th>\n",
       "    </tr>\n",
       "  </thead>\n",
       "  <tbody>\n",
       "    <tr>\n",
       "      <th>0</th>\n",
       "      <td>Brazil</td>\n",
       "      <td>Area harvested</td>\n",
       "      <td>Maize (corn)</td>\n",
       "      <td>2000</td>\n",
       "      <td>ha</td>\n",
       "      <td>11890376.0</td>\n",
       "    </tr>\n",
       "    <tr>\n",
       "      <th>1</th>\n",
       "      <td>Brazil</td>\n",
       "      <td>Yield</td>\n",
       "      <td>Maize (corn)</td>\n",
       "      <td>2000</td>\n",
       "      <td>100 g/ha</td>\n",
       "      <td>27182.0</td>\n",
       "    </tr>\n",
       "    <tr>\n",
       "      <th>2</th>\n",
       "      <td>Brazil</td>\n",
       "      <td>Production</td>\n",
       "      <td>Maize (corn)</td>\n",
       "      <td>2000</td>\n",
       "      <td>t</td>\n",
       "      <td>32321000.0</td>\n",
       "    </tr>\n",
       "    <tr>\n",
       "      <th>3</th>\n",
       "      <td>Brazil</td>\n",
       "      <td>Area harvested</td>\n",
       "      <td>Maize (corn)</td>\n",
       "      <td>2001</td>\n",
       "      <td>ha</td>\n",
       "      <td>12335175.0</td>\n",
       "    </tr>\n",
       "    <tr>\n",
       "      <th>4</th>\n",
       "      <td>Brazil</td>\n",
       "      <td>Yield</td>\n",
       "      <td>Maize (corn)</td>\n",
       "      <td>2001</td>\n",
       "      <td>100 g/ha</td>\n",
       "      <td>34019.0</td>\n",
       "    </tr>\n",
       "  </tbody>\n",
       "</table>\n",
       "</div>"
      ],
      "text/plain": [
       "  Country       Prod_type     Crop_Name  Year Crop_Production_Unit  \\\n",
       "0  Brazil  Area harvested  Maize (corn)  2000                   ha   \n",
       "1  Brazil           Yield  Maize (corn)  2000             100 g/ha   \n",
       "2  Brazil      Production  Maize (corn)  2000                    t   \n",
       "3  Brazil  Area harvested  Maize (corn)  2001                   ha   \n",
       "4  Brazil           Yield  Maize (corn)  2001             100 g/ha   \n",
       "\n",
       "   Crop_Production_Value  \n",
       "0             11890376.0  \n",
       "1                27182.0  \n",
       "2             32321000.0  \n",
       "3             12335175.0  \n",
       "4                34019.0  "
      ]
     },
     "execution_count": 3,
     "metadata": {},
     "output_type": "execute_result"
    }
   ],
   "source": [
    "Crop_Production_df = pd.read_csv(\"Crop_Production.csv\")\n",
    "Crop_Production_df.drop(['Domain Code', 'Domain', 'Area Code (M49)', 'Element Code',\n",
    "                         'Item Code (CPC)', 'Year Code', 'Flag', 'Flag Description', 'Note'], axis=1,inplace=True)\n",
    "Crop_Production_df = Crop_Production_df[Crop_Production_df['Year'].between(2000, 2021)]\n",
    "Crop_Production_df.rename(columns={'Area': 'Country','Element': 'Prod_type', 'Item': 'Crop_Name', 'Value': 'Crop_Production_Value',\n",
    "                                   'Unit': 'Crop_Production_Unit'}, inplace=True)\n",
    "\n",
    "Crop_Production_df.head()"
   ]
  },
  {
   "cell_type": "code",
   "execution_count": 4,
   "id": "bc33d6dd",
   "metadata": {},
   "outputs": [
    {
     "name": "stdout",
     "output_type": "stream",
     "text": [
      "[2000 2001 2002 2003 2004 2005 2006 2007 2008 2009 2010 2011 2012 2013\n",
      " 2014 2015 2016 2017 2018 2019 2020 2021]\n"
     ]
    }
   ],
   "source": [
    "unique_values = Crop_Production_df['Year'].unique()\n",
    "print(unique_values)"
   ]
  },
  {
   "cell_type": "markdown",
   "id": "d63f22bc",
   "metadata": {},
   "source": [
    "### *Pivoting the Prod_type Column*"
   ]
  },
  {
   "cell_type": "code",
   "execution_count": 5,
   "id": "fb95ab50",
   "metadata": {},
   "outputs": [
    {
     "data": {
      "text/html": [
       "<div>\n",
       "<style scoped>\n",
       "    .dataframe tbody tr th:only-of-type {\n",
       "        vertical-align: middle;\n",
       "    }\n",
       "\n",
       "    .dataframe tbody tr th {\n",
       "        vertical-align: top;\n",
       "    }\n",
       "\n",
       "    .dataframe thead th {\n",
       "        text-align: right;\n",
       "    }\n",
       "</style>\n",
       "<table border=\"1\" class=\"dataframe\">\n",
       "  <thead>\n",
       "    <tr style=\"text-align: right;\">\n",
       "      <th></th>\n",
       "      <th>Country</th>\n",
       "      <th>Crop_Name</th>\n",
       "      <th>Year</th>\n",
       "      <th>Area harvested_ha</th>\n",
       "      <th>Production_t</th>\n",
       "      <th>Yield_100 g/ha</th>\n",
       "    </tr>\n",
       "  </thead>\n",
       "  <tbody>\n",
       "    <tr>\n",
       "      <th>0</th>\n",
       "      <td>Brazil</td>\n",
       "      <td>Maize (corn)</td>\n",
       "      <td>2000</td>\n",
       "      <td>11890376.0</td>\n",
       "      <td>32321000.0</td>\n",
       "      <td>27182.0</td>\n",
       "    </tr>\n",
       "    <tr>\n",
       "      <th>1</th>\n",
       "      <td>Brazil</td>\n",
       "      <td>Maize (corn)</td>\n",
       "      <td>2001</td>\n",
       "      <td>12335175.0</td>\n",
       "      <td>41962475.0</td>\n",
       "      <td>34019.0</td>\n",
       "    </tr>\n",
       "    <tr>\n",
       "      <th>2</th>\n",
       "      <td>Brazil</td>\n",
       "      <td>Maize (corn)</td>\n",
       "      <td>2002</td>\n",
       "      <td>11760965.0</td>\n",
       "      <td>35940832.0</td>\n",
       "      <td>30559.0</td>\n",
       "    </tr>\n",
       "    <tr>\n",
       "      <th>3</th>\n",
       "      <td>Brazil</td>\n",
       "      <td>Maize (corn)</td>\n",
       "      <td>2003</td>\n",
       "      <td>12965678.0</td>\n",
       "      <td>48327323.0</td>\n",
       "      <td>37273.0</td>\n",
       "    </tr>\n",
       "    <tr>\n",
       "      <th>4</th>\n",
       "      <td>Brazil</td>\n",
       "      <td>Maize (corn)</td>\n",
       "      <td>2004</td>\n",
       "      <td>12410677.0</td>\n",
       "      <td>41787558.0</td>\n",
       "      <td>33671.0</td>\n",
       "    </tr>\n",
       "  </tbody>\n",
       "</table>\n",
       "</div>"
      ],
      "text/plain": [
       "  Country     Crop_Name  Year  Area harvested_ha  Production_t  Yield_100 g/ha\n",
       "0  Brazil  Maize (corn)  2000         11890376.0    32321000.0         27182.0\n",
       "1  Brazil  Maize (corn)  2001         12335175.0    41962475.0         34019.0\n",
       "2  Brazil  Maize (corn)  2002         11760965.0    35940832.0         30559.0\n",
       "3  Brazil  Maize (corn)  2003         12965678.0    48327323.0         37273.0\n",
       "4  Brazil  Maize (corn)  2004         12410677.0    41787558.0         33671.0"
      ]
     },
     "execution_count": 5,
     "metadata": {},
     "output_type": "execute_result"
    }
   ],
   "source": [
    "Crop_Production_df['Prod_type'] = Crop_Production_df['Prod_type'] + '_' + Crop_Production_df['Crop_Production_Unit']\n",
    "\n",
    "\n",
    "# Pivot the DataFrame\n",
    "Crop_Production_pivot_df = Crop_Production_df.pivot(index=['Country', 'Crop_Name', 'Year'], columns='Prod_type', values='Crop_Production_Value').reset_index()\n",
    "\n",
    "# Rename columns\n",
    "Crop_Production_pivot_df.columns.name = None\n",
    "\n",
    "# Display the pivoted DataFrame\n",
    "Crop_Production_pivot_df.head()"
   ]
  },
  {
   "cell_type": "code",
   "execution_count": 6,
   "id": "83a5661d",
   "metadata": {},
   "outputs": [
    {
     "name": "stdout",
     "output_type": "stream",
     "text": [
      "Country              0\n",
      "Crop_Name            0\n",
      "Year                 0\n",
      "Area harvested_ha    0\n",
      "Production_t         0\n",
      "Yield_100 g/ha       0\n",
      "dtype: int64\n"
     ]
    }
   ],
   "source": [
    "null_values_count = Crop_Production_pivot_df.isnull().sum()\n",
    "print(null_values_count)"
   ]
  },
  {
   "cell_type": "code",
   "execution_count": 7,
   "id": "d0d68983",
   "metadata": {},
   "outputs": [
    {
     "name": "stdout",
     "output_type": "stream",
     "text": [
      "Data Types Check:\n",
      "Country               object\n",
      "Crop_Name             object\n",
      "Year                   int64\n",
      "Area harvested_ha    float64\n",
      "Production_t         float64\n",
      "Yield_100 g/ha       float64\n",
      "dtype: object\n",
      "\n",
      "\n"
     ]
    }
   ],
   "source": [
    "# Data Types Check\n",
    "print(\"Data Types Check:\")\n",
    "print(Crop_Production_pivot_df.dtypes)\n",
    "print(\"\\n\")"
   ]
  },
  {
   "cell_type": "code",
   "execution_count": 8,
   "id": "b180a0a3",
   "metadata": {},
   "outputs": [
    {
     "name": "stdout",
     "output_type": "stream",
     "text": [
      "Data Distribution Check:\n",
      "              Year  Area harvested_ha  Production_t  Yield_100 g/ha\n",
      "count   330.000000       3.300000e+02  3.300000e+02      330.000000\n",
      "mean   2010.500000       1.601580e+07  8.174163e+07    44924.400000\n",
      "std       6.353923       1.255783e+07  9.084828e+07    23406.333719\n",
      "min    2000.000000       1.453390e+05  2.150000e+05    12181.000000\n",
      "25%    2005.000000       2.981724e+06  1.162225e+07    27743.500000\n",
      "50%    2010.500000       1.371209e+07  5.443687e+07    42209.000000\n",
      "75%    2016.000000       2.860851e+07  1.151685e+08    57681.750000\n",
      "max    2021.000000       4.499575e+07  4.122622e+08   117433.000000\n",
      "\n",
      "\n"
     ]
    }
   ],
   "source": [
    "# Data Distribution Check\n",
    "print(\"Data Distribution Check:\")\n",
    "print(Crop_Production_pivot_df.describe())\n",
    "print(\"\\n\")"
   ]
  },
  {
   "cell_type": "markdown",
   "id": "ffbbe691",
   "metadata": {},
   "source": [
    "- In the pre-processing steps for the Crop Production table, we began by unpivoting the data to transform it into a more structured format, with separate columns for area harvested, yield, and production. \n",
    "- Following this, we conducted a series of checks to ensure data integrity and readiness for analysis. These included verifying data types to ensure consistency, examining data distributions to identify any outliers."
   ]
  },
  {
   "cell_type": "markdown",
   "id": "a1fcdb03",
   "metadata": {},
   "source": [
    "## Crop_Trade"
   ]
  },
  {
   "cell_type": "code",
   "execution_count": 9,
   "id": "46349329",
   "metadata": {},
   "outputs": [
    {
     "data": {
      "text/html": [
       "<div>\n",
       "<style scoped>\n",
       "    .dataframe tbody tr th:only-of-type {\n",
       "        vertical-align: middle;\n",
       "    }\n",
       "\n",
       "    .dataframe tbody tr th {\n",
       "        vertical-align: top;\n",
       "    }\n",
       "\n",
       "    .dataframe thead th {\n",
       "        text-align: right;\n",
       "    }\n",
       "</style>\n",
       "<table border=\"1\" class=\"dataframe\">\n",
       "  <thead>\n",
       "    <tr style=\"text-align: right;\">\n",
       "      <th></th>\n",
       "      <th>Country</th>\n",
       "      <th>Trade_type</th>\n",
       "      <th>Crop_Name</th>\n",
       "      <th>Year</th>\n",
       "      <th>Trade_Unit</th>\n",
       "      <th>Trade_Value</th>\n",
       "    </tr>\n",
       "  </thead>\n",
       "  <tbody>\n",
       "    <tr>\n",
       "      <th>0</th>\n",
       "      <td>Brazil</td>\n",
       "      <td>Import Quantity</td>\n",
       "      <td>Maize (corn)</td>\n",
       "      <td>2000</td>\n",
       "      <td>t</td>\n",
       "      <td>1771194.0</td>\n",
       "    </tr>\n",
       "    <tr>\n",
       "      <th>1</th>\n",
       "      <td>Brazil</td>\n",
       "      <td>Import Value</td>\n",
       "      <td>Maize (corn)</td>\n",
       "      <td>2000</td>\n",
       "      <td>1000 USD</td>\n",
       "      <td>201960.0</td>\n",
       "    </tr>\n",
       "    <tr>\n",
       "      <th>2</th>\n",
       "      <td>Brazil</td>\n",
       "      <td>Export Quantity</td>\n",
       "      <td>Maize (corn)</td>\n",
       "      <td>2000</td>\n",
       "      <td>t</td>\n",
       "      <td>6699.0</td>\n",
       "    </tr>\n",
       "    <tr>\n",
       "      <th>3</th>\n",
       "      <td>Brazil</td>\n",
       "      <td>Export Value</td>\n",
       "      <td>Maize (corn)</td>\n",
       "      <td>2000</td>\n",
       "      <td>1000 USD</td>\n",
       "      <td>9366.0</td>\n",
       "    </tr>\n",
       "    <tr>\n",
       "      <th>4</th>\n",
       "      <td>Brazil</td>\n",
       "      <td>Import Quantity</td>\n",
       "      <td>Maize (corn)</td>\n",
       "      <td>2001</td>\n",
       "      <td>t</td>\n",
       "      <td>624362.0</td>\n",
       "    </tr>\n",
       "  </tbody>\n",
       "</table>\n",
       "</div>"
      ],
      "text/plain": [
       "  Country       Trade_type     Crop_Name  Year Trade_Unit  Trade_Value\n",
       "0  Brazil  Import Quantity  Maize (corn)  2000          t    1771194.0\n",
       "1  Brazil     Import Value  Maize (corn)  2000   1000 USD     201960.0\n",
       "2  Brazil  Export Quantity  Maize (corn)  2000          t       6699.0\n",
       "3  Brazil     Export Value  Maize (corn)  2000   1000 USD       9366.0\n",
       "4  Brazil  Import Quantity  Maize (corn)  2001          t     624362.0"
      ]
     },
     "execution_count": 9,
     "metadata": {},
     "output_type": "execute_result"
    }
   ],
   "source": [
    "Crop_Trade_df = pd.read_csv(\"Crop_Trade.csv\")\n",
    "Crop_Trade_df.drop(['Domain Code', 'Domain', 'Area Code (M49)', 'Element Code',\n",
    "                         'Item Code (CPC)', 'Year Code', 'Flag', 'Flag Description', 'Note'], axis=1,inplace=True)\n",
    "Crop_Trade_df = Crop_Trade_df[Crop_Trade_df['Year'].between(2000, 2021)]\n",
    "Crop_Trade_df.rename(columns={'Area': 'Country', 'Element': 'Trade_type', 'Item': 'Crop_Name', \n",
    "                              'Value': 'Trade_Value',  'Unit': 'Trade_Unit'}, inplace=True)\n",
    "\n",
    "Crop_Trade_df.head()"
   ]
  },
  {
   "cell_type": "code",
   "execution_count": 10,
   "id": "207451ea",
   "metadata": {},
   "outputs": [
    {
     "name": "stdout",
     "output_type": "stream",
     "text": [
      "[2000 2001 2002 2003 2004 2005 2006 2007 2008 2009 2010 2011 2012 2013\n",
      " 2014 2015 2016 2017 2018 2019 2020 2021]\n"
     ]
    }
   ],
   "source": [
    "unique_values = Crop_Trade_df['Year'].unique()\n",
    "print(unique_values)"
   ]
  },
  {
   "cell_type": "markdown",
   "id": "07d16d6e",
   "metadata": {},
   "source": [
    "### *Pivoting the Trade_type Column*"
   ]
  },
  {
   "cell_type": "code",
   "execution_count": 11,
   "id": "af275c38",
   "metadata": {},
   "outputs": [
    {
     "data": {
      "text/html": [
       "<div>\n",
       "<style scoped>\n",
       "    .dataframe tbody tr th:only-of-type {\n",
       "        vertical-align: middle;\n",
       "    }\n",
       "\n",
       "    .dataframe tbody tr th {\n",
       "        vertical-align: top;\n",
       "    }\n",
       "\n",
       "    .dataframe thead th {\n",
       "        text-align: right;\n",
       "    }\n",
       "</style>\n",
       "<table border=\"1\" class=\"dataframe\">\n",
       "  <thead>\n",
       "    <tr style=\"text-align: right;\">\n",
       "      <th></th>\n",
       "      <th>Country</th>\n",
       "      <th>Crop_Name</th>\n",
       "      <th>Year</th>\n",
       "      <th>Export Quantity_t</th>\n",
       "      <th>Export Value_1000 USD</th>\n",
       "      <th>Import Quantity_t</th>\n",
       "      <th>Import Value_1000 USD</th>\n",
       "    </tr>\n",
       "  </thead>\n",
       "  <tbody>\n",
       "    <tr>\n",
       "      <th>0</th>\n",
       "      <td>Brazil</td>\n",
       "      <td>Maize (corn)</td>\n",
       "      <td>2000</td>\n",
       "      <td>6699.0</td>\n",
       "      <td>9366.0</td>\n",
       "      <td>1771194.0</td>\n",
       "      <td>201960.0</td>\n",
       "    </tr>\n",
       "    <tr>\n",
       "      <th>1</th>\n",
       "      <td>Brazil</td>\n",
       "      <td>Maize (corn)</td>\n",
       "      <td>2001</td>\n",
       "      <td>5628978.0</td>\n",
       "      <td>497328.0</td>\n",
       "      <td>624362.0</td>\n",
       "      <td>62044.0</td>\n",
       "    </tr>\n",
       "    <tr>\n",
       "      <th>2</th>\n",
       "      <td>Brazil</td>\n",
       "      <td>Maize (corn)</td>\n",
       "      <td>2002</td>\n",
       "      <td>2746990.0</td>\n",
       "      <td>267597.0</td>\n",
       "      <td>345256.0</td>\n",
       "      <td>34758.0</td>\n",
       "    </tr>\n",
       "    <tr>\n",
       "      <th>3</th>\n",
       "      <td>Brazil</td>\n",
       "      <td>Maize (corn)</td>\n",
       "      <td>2003</td>\n",
       "      <td>3566232.0</td>\n",
       "      <td>375136.0</td>\n",
       "      <td>797670.0</td>\n",
       "      <td>70605.0</td>\n",
       "    </tr>\n",
       "    <tr>\n",
       "      <th>4</th>\n",
       "      <td>Brazil</td>\n",
       "      <td>Maize (corn)</td>\n",
       "      <td>2004</td>\n",
       "      <td>5030999.0</td>\n",
       "      <td>597336.0</td>\n",
       "      <td>330490.0</td>\n",
       "      <td>35927.0</td>\n",
       "    </tr>\n",
       "  </tbody>\n",
       "</table>\n",
       "</div>"
      ],
      "text/plain": [
       "  Country     Crop_Name  Year  Export Quantity_t  Export Value_1000 USD  \\\n",
       "0  Brazil  Maize (corn)  2000             6699.0                 9366.0   \n",
       "1  Brazil  Maize (corn)  2001          5628978.0               497328.0   \n",
       "2  Brazil  Maize (corn)  2002          2746990.0               267597.0   \n",
       "3  Brazil  Maize (corn)  2003          3566232.0               375136.0   \n",
       "4  Brazil  Maize (corn)  2004          5030999.0               597336.0   \n",
       "\n",
       "   Import Quantity_t  Import Value_1000 USD  \n",
       "0          1771194.0               201960.0  \n",
       "1           624362.0                62044.0  \n",
       "2           345256.0                34758.0  \n",
       "3           797670.0                70605.0  \n",
       "4           330490.0                35927.0  "
      ]
     },
     "execution_count": 11,
     "metadata": {},
     "output_type": "execute_result"
    }
   ],
   "source": [
    "Crop_Trade_df['Trade_type'] = Crop_Trade_df['Trade_type'] + '_' + Crop_Trade_df['Trade_Unit']\n",
    "\n",
    "\n",
    "# Pivot the DataFrame\n",
    "Crop_Trade_pivot_df = Crop_Trade_df.pivot(index=['Country', 'Crop_Name', 'Year'], columns='Trade_type', values='Trade_Value').reset_index()\n",
    "\n",
    "# Rename columns\n",
    "Crop_Trade_pivot_df.columns.name = None\n",
    "\n",
    "# Display the pivoted DataFrame\n",
    "Crop_Trade_pivot_df.head()"
   ]
  },
  {
   "cell_type": "code",
   "execution_count": 12,
   "id": "7c5e399b",
   "metadata": {},
   "outputs": [
    {
     "name": "stdout",
     "output_type": "stream",
     "text": [
      "Data Types Check:\n",
      "Country                   object\n",
      "Crop_Name                 object\n",
      "Year                       int64\n",
      "Export Quantity_t        float64\n",
      "Export Value_1000 USD    float64\n",
      "Import Quantity_t        float64\n",
      "Import Value_1000 USD    float64\n",
      "dtype: object\n",
      "\n",
      "\n"
     ]
    }
   ],
   "source": [
    "# Data Types Check\n",
    "print(\"Data Types Check:\")\n",
    "print(Crop_Trade_pivot_df.dtypes)\n",
    "print(\"\\n\")"
   ]
  },
  {
   "cell_type": "code",
   "execution_count": 13,
   "id": "e029ee4b",
   "metadata": {},
   "outputs": [
    {
     "name": "stdout",
     "output_type": "stream",
     "text": [
      "Country                  0\n",
      "Crop_Name                0\n",
      "Year                     0\n",
      "Export Quantity_t        2\n",
      "Export Value_1000 USD    2\n",
      "Import Quantity_t        0\n",
      "Import Value_1000 USD    0\n",
      "dtype: int64\n"
     ]
    }
   ],
   "source": [
    "null_values_count = Crop_Trade_pivot_df.isnull().sum()\n",
    "print(null_values_count)"
   ]
  },
  {
   "cell_type": "code",
   "execution_count": 14,
   "id": "11ba03b9",
   "metadata": {},
   "outputs": [
    {
     "data": {
      "image/png": "[encoded data removed]",
      "text/plain": [
       "<Figure size 1200x600 with 2 Axes>"
      ]
     },
     "metadata": {},
     "output_type": "display_data"
    }
   ],
   "source": [
    "# Visualize distribution before handling missing values\n",
    "plt.figure(figsize=(12, 6))\n",
    "plt.subplot(1, 2, 1)\n",
    "plt.hist(Crop_Trade_pivot_df[\"Export Quantity_t\"], bins=20, color='skyblue', edgecolor='black')\n",
    "plt.title('Export Quantity Distribution (Before)')\n",
    "plt.xlabel('Export Quantity (tonnes)')\n",
    "plt.ylabel('Frequency')\n",
    "\n",
    "plt.subplot(1, 2, 2)\n",
    "plt.hist(Crop_Trade_pivot_df[\"Export Value_1000 USD\"], bins=20, color='salmon', edgecolor='black')\n",
    "plt.title('Export Value Distribution (Before)')\n",
    "plt.xlabel('Export Value (1000 USD)')\n",
    "plt.ylabel('Frequency')\n",
    "\n",
    "plt.tight_layout()\n",
    "plt.show()"
   ]
  },
  {
   "cell_type": "code",
   "execution_count": 15,
   "id": "3494ac0e",
   "metadata": {},
   "outputs": [
    {
     "name": "stdout",
     "output_type": "stream",
     "text": [
      "Remaining missing values:\n",
      "Country                  0\n",
      "Crop_Name                0\n",
      "Year                     0\n",
      "Export Quantity_t        0\n",
      "Export Value_1000 USD    0\n",
      "Import Quantity_t        0\n",
      "Import Value_1000 USD    0\n",
      "dtype: int64\n"
     ]
    }
   ],
   "source": [
    "# Fill missing values with appropriate methods (e.g., mean, median, zero)\n",
    "Crop_Trade_pivot_df[\"Export Quantity_t\"].fillna(Crop_Trade_pivot_df[\"Export Quantity_t\"].mean(), inplace=True)\n",
    "Crop_Trade_pivot_df[\"Export Value_1000 USD\"].fillna(0, inplace=True)  # Assuming missing values indicate zero export value\n",
    "\n",
    "# Check if there are any remaining missing values\n",
    "missing_values = Crop_Trade_pivot_df.isnull().sum()\n",
    "print(\"Remaining missing values:\")\n",
    "print(missing_values)\n"
   ]
  },
  {
   "cell_type": "code",
   "execution_count": 16,
   "id": "c0a8e045",
   "metadata": {},
   "outputs": [
    {
     "name": "stdout",
     "output_type": "stream",
     "text": [
      "Summary statistics after handling missing values:\n",
      "             Year  Export Quantity_t  Export Value_1000 USD  \\\n",
      "count   352.00000       3.520000e+02           3.520000e+02   \n",
      "mean   2010.50000       1.120090e+07           3.203444e+06   \n",
      "std       6.35332       1.879364e+07           6.419984e+06   \n",
      "min    2000.00000       0.000000e+00           0.000000e+00   \n",
      "25%    2005.00000       1.203767e+04           4.288250e+03   \n",
      "50%    2010.50000       2.667183e+05           9.543250e+04   \n",
      "75%    2016.00000       2.189054e+07           4.129606e+06   \n",
      "max    2021.00000       8.610979e+07           3.863873e+07   \n",
      "\n",
      "       Import Quantity_t  Import Value_1000 USD  \n",
      "count       3.520000e+02           3.520000e+02  \n",
      "mean        5.574485e+06           2.122109e+06  \n",
      "std         1.539229e+07           7.182268e+06  \n",
      "min         0.000000e+00           0.000000e+00  \n",
      "25%         1.114752e+05           3.051150e+04  \n",
      "50%         1.120820e+06           3.007495e+05  \n",
      "75%         4.564586e+06           1.069140e+06  \n",
      "max         1.029447e+08           5.504196e+07  \n",
      "\n",
      "\n"
     ]
    },
    {
     "data": {
      "image/png": "[encoded data removed]",
      "text/plain": [
       "<Figure size 1200x600 with 2 Axes>"
      ]
     },
     "metadata": {},
     "output_type": "display_data"
    }
   ],
   "source": [
    "# Summary statistics after handling missing values\n",
    "print(\"Summary statistics after handling missing values:\")\n",
    "print(Crop_Trade_pivot_df.describe())\n",
    "print(\"\\n\")\n",
    "\n",
    "# Visualize distribution after handling missing values\n",
    "plt.figure(figsize=(12, 6))\n",
    "plt.subplot(1, 2, 1)\n",
    "plt.hist(Crop_Trade_pivot_df[\"Export Quantity_t\"], bins=20, color='skyblue', edgecolor='black')\n",
    "plt.title('Export Quantity Distribution (After)')\n",
    "plt.xlabel('Export Quantity (tonnes)')\n",
    "plt.ylabel('Frequency')\n",
    "\n",
    "plt.subplot(1, 2, 2)\n",
    "plt.hist(Crop_Trade_pivot_df[\"Export Value_1000 USD\"], bins=20, color='salmon', edgecolor='black')\n",
    "plt.title('Export Value Distribution (After)')\n",
    "plt.xlabel('Export Value (1000 USD)')\n",
    "plt.ylabel('Frequency')\n",
    "\n",
    "plt.tight_layout()\n",
    "plt.show()"
   ]
  },
  {
   "cell_type": "markdown",
   "id": "95abb9a2",
   "metadata": {},
   "source": [
    "## Distribution Check for Crop Trade Data\n",
    "\n",
    "- **Before Handling Missing Values**:\n",
    "  - Checked summary statistics and visualized histograms for \"Export Quantity_t\" and \"Export Value_1000 USD\" columns.\n",
    "  - Ensured that the distribution of these variables was representative of the original data.\n",
    "\n",
    "- **After Handling Missing Values**:\n",
    "  - Repeated the summary statistics and visualization steps to confirm that handling missing values did not significantly alter the distribution of the data.\n",
    "\n",
    "The distribution check allowed us to assess whether handling missing values introduced any bias or significant changes in the distribution of relevant variables.\n"
   ]
  },
  {
   "cell_type": "markdown",
   "id": "dc8f0b00",
   "metadata": {},
   "source": [
    "## Emission_from_Crops"
   ]
  },
  {
   "cell_type": "code",
   "execution_count": 17,
   "id": "68443c50",
   "metadata": {},
   "outputs": [
    {
     "data": {
      "text/html": [
       "<div>\n",
       "<style scoped>\n",
       "    .dataframe tbody tr th:only-of-type {\n",
       "        vertical-align: middle;\n",
       "    }\n",
       "\n",
       "    .dataframe tbody tr th {\n",
       "        vertical-align: top;\n",
       "    }\n",
       "\n",
       "    .dataframe thead th {\n",
       "        text-align: right;\n",
       "    }\n",
       "</style>\n",
       "<table border=\"1\" class=\"dataframe\">\n",
       "  <thead>\n",
       "    <tr style=\"text-align: right;\">\n",
       "      <th></th>\n",
       "      <th>Country</th>\n",
       "      <th>Emission_type</th>\n",
       "      <th>Crop_Name</th>\n",
       "      <th>Year</th>\n",
       "      <th>Emission_Unit</th>\n",
       "      <th>Emission_Value_kt</th>\n",
       "    </tr>\n",
       "  </thead>\n",
       "  <tbody>\n",
       "    <tr>\n",
       "      <th>0</th>\n",
       "      <td>Brazil</td>\n",
       "      <td>Crops total (Emissions N2O)</td>\n",
       "      <td>Maize (corn)</td>\n",
       "      <td>2000</td>\n",
       "      <td>kt</td>\n",
       "      <td>6.4353</td>\n",
       "    </tr>\n",
       "    <tr>\n",
       "      <th>1</th>\n",
       "      <td>Brazil</td>\n",
       "      <td>Crops total (Emissions CH4)</td>\n",
       "      <td>Maize (corn)</td>\n",
       "      <td>2000</td>\n",
       "      <td>kt</td>\n",
       "      <td>32.1040</td>\n",
       "    </tr>\n",
       "    <tr>\n",
       "      <th>2</th>\n",
       "      <td>Brazil</td>\n",
       "      <td>Crops total (Emissions N2O)</td>\n",
       "      <td>Maize (corn)</td>\n",
       "      <td>2001</td>\n",
       "      <td>kt</td>\n",
       "      <td>7.8851</td>\n",
       "    </tr>\n",
       "    <tr>\n",
       "      <th>3</th>\n",
       "      <td>Brazil</td>\n",
       "      <td>Crops total (Emissions CH4)</td>\n",
       "      <td>Maize (corn)</td>\n",
       "      <td>2001</td>\n",
       "      <td>kt</td>\n",
       "      <td>33.3050</td>\n",
       "    </tr>\n",
       "    <tr>\n",
       "      <th>4</th>\n",
       "      <td>Brazil</td>\n",
       "      <td>Crops total (Emissions N2O)</td>\n",
       "      <td>Maize (corn)</td>\n",
       "      <td>2002</td>\n",
       "      <td>kt</td>\n",
       "      <td>6.9347</td>\n",
       "    </tr>\n",
       "  </tbody>\n",
       "</table>\n",
       "</div>"
      ],
      "text/plain": [
       "  Country                Emission_type     Crop_Name  Year Emission_Unit  \\\n",
       "0  Brazil  Crops total (Emissions N2O)  Maize (corn)  2000            kt   \n",
       "1  Brazil  Crops total (Emissions CH4)  Maize (corn)  2000            kt   \n",
       "2  Brazil  Crops total (Emissions N2O)  Maize (corn)  2001            kt   \n",
       "3  Brazil  Crops total (Emissions CH4)  Maize (corn)  2001            kt   \n",
       "4  Brazil  Crops total (Emissions N2O)  Maize (corn)  2002            kt   \n",
       "\n",
       "   Emission_Value_kt  \n",
       "0             6.4353  \n",
       "1            32.1040  \n",
       "2             7.8851  \n",
       "3            33.3050  \n",
       "4             6.9347  "
      ]
     },
     "execution_count": 17,
     "metadata": {},
     "output_type": "execute_result"
    }
   ],
   "source": [
    "Emission_from_Crops_df = pd.read_csv(\"Emission_from_Crops.csv\")\n",
    "Emission_from_Crops_df.drop(['Domain Code', 'Domain', 'Area Code (M49)', 'Element Code', 'Source', 'Source Code',\n",
    "                    'Item Code (CPC)', 'Year Code', 'Flag', 'Flag Description', 'Note'], axis=1,inplace=True)\n",
    "Emission_from_Crops_df.rename(columns={'Area': 'Country','Element': 'Emission_type', 'Item': 'Crop_Name', 'Value': 'Emission_Value_kt',  'Unit': 'Emission_Unit'}, inplace=True)\n",
    "\n",
    "Emission_from_Crops_df.head()"
   ]
  },
  {
   "cell_type": "code",
   "execution_count": 18,
   "id": "82517fe4",
   "metadata": {},
   "outputs": [],
   "source": [
    "Emission_from_Crops_df.drop(columns = \"Emission_Unit\", axis = 1, inplace = True)"
   ]
  },
  {
   "cell_type": "code",
   "execution_count": 19,
   "id": "70c90e72",
   "metadata": {},
   "outputs": [
    {
     "data": {
      "text/plain": [
       "(572, 5)"
      ]
     },
     "execution_count": 19,
     "metadata": {},
     "output_type": "execute_result"
    }
   ],
   "source": [
    "Emission_from_Crops_df.shape"
   ]
  },
  {
   "cell_type": "code",
   "execution_count": 20,
   "id": "263eaf4d",
   "metadata": {},
   "outputs": [
    {
     "data": {
      "text/html": [
       "<div>\n",
       "<style scoped>\n",
       "    .dataframe tbody tr th:only-of-type {\n",
       "        vertical-align: middle;\n",
       "    }\n",
       "\n",
       "    .dataframe tbody tr th {\n",
       "        vertical-align: top;\n",
       "    }\n",
       "\n",
       "    .dataframe thead th {\n",
       "        text-align: right;\n",
       "    }\n",
       "</style>\n",
       "<table border=\"1\" class=\"dataframe\">\n",
       "  <thead>\n",
       "    <tr style=\"text-align: right;\">\n",
       "      <th></th>\n",
       "      <th>Country</th>\n",
       "      <th>Emission_type</th>\n",
       "      <th>Crop_Name</th>\n",
       "      <th>Year</th>\n",
       "      <th>Emission_Value_kt</th>\n",
       "    </tr>\n",
       "  </thead>\n",
       "  <tbody>\n",
       "    <tr>\n",
       "      <th>0</th>\n",
       "      <td>Brazil</td>\n",
       "      <td>Crops total (Emissions N2O)</td>\n",
       "      <td>Maize (corn)</td>\n",
       "      <td>2000</td>\n",
       "      <td>6.4353</td>\n",
       "    </tr>\n",
       "    <tr>\n",
       "      <th>1</th>\n",
       "      <td>Brazil</td>\n",
       "      <td>Crops total (Emissions CH4)</td>\n",
       "      <td>Maize (corn)</td>\n",
       "      <td>2000</td>\n",
       "      <td>32.1040</td>\n",
       "    </tr>\n",
       "    <tr>\n",
       "      <th>2</th>\n",
       "      <td>Brazil</td>\n",
       "      <td>Crops total (Emissions N2O)</td>\n",
       "      <td>Maize (corn)</td>\n",
       "      <td>2001</td>\n",
       "      <td>7.8851</td>\n",
       "    </tr>\n",
       "    <tr>\n",
       "      <th>3</th>\n",
       "      <td>Brazil</td>\n",
       "      <td>Crops total (Emissions CH4)</td>\n",
       "      <td>Maize (corn)</td>\n",
       "      <td>2001</td>\n",
       "      <td>33.3050</td>\n",
       "    </tr>\n",
       "    <tr>\n",
       "      <th>4</th>\n",
       "      <td>Brazil</td>\n",
       "      <td>Crops total (Emissions N2O)</td>\n",
       "      <td>Maize (corn)</td>\n",
       "      <td>2002</td>\n",
       "      <td>6.9347</td>\n",
       "    </tr>\n",
       "  </tbody>\n",
       "</table>\n",
       "</div>"
      ],
      "text/plain": [
       "  Country                Emission_type     Crop_Name  Year  Emission_Value_kt\n",
       "0  Brazil  Crops total (Emissions N2O)  Maize (corn)  2000             6.4353\n",
       "1  Brazil  Crops total (Emissions CH4)  Maize (corn)  2000            32.1040\n",
       "2  Brazil  Crops total (Emissions N2O)  Maize (corn)  2001             7.8851\n",
       "3  Brazil  Crops total (Emissions CH4)  Maize (corn)  2001            33.3050\n",
       "4  Brazil  Crops total (Emissions N2O)  Maize (corn)  2002             6.9347"
      ]
     },
     "execution_count": 20,
     "metadata": {},
     "output_type": "execute_result"
    }
   ],
   "source": [
    "Emission_from_Crops_df.head()"
   ]
  },
  {
   "cell_type": "code",
   "execution_count": 21,
   "id": "c45761a3",
   "metadata": {},
   "outputs": [
    {
     "name": "stdout",
     "output_type": "stream",
     "text": [
      "Country              0\n",
      "Emission_type        0\n",
      "Crop_Name            0\n",
      "Year                 0\n",
      "Emission_Value_kt    0\n",
      "dtype: int64\n"
     ]
    }
   ],
   "source": [
    "null_values_count = Emission_from_Crops_df.isnull().sum()\n",
    "print(null_values_count)"
   ]
  },
  {
   "cell_type": "code",
   "execution_count": 22,
   "id": "f7596c26",
   "metadata": {},
   "outputs": [
    {
     "name": "stdout",
     "output_type": "stream",
     "text": [
      "Data Types Check:\n",
      "Country               object\n",
      "Emission_type         object\n",
      "Crop_Name             object\n",
      "Year                   int64\n",
      "Emission_Value_kt    float64\n",
      "dtype: object\n",
      "\n",
      "\n"
     ]
    }
   ],
   "source": [
    "# Data Types Check\n",
    "print(\"Data Types Check:\")\n",
    "print(Emission_from_Crops_df.dtypes)\n",
    "print(\"\\n\")"
   ]
  },
  {
   "cell_type": "code",
   "execution_count": 23,
   "id": "78c7b330",
   "metadata": {},
   "outputs": [
    {
     "name": "stdout",
     "output_type": "stream",
     "text": [
      "Summary statistics:\n",
      "              Year  Emission_Value_kt\n",
      "count   572.000000         572.000000\n",
      "mean   2010.500000         339.557927\n",
      "std       6.349842        1094.898671\n",
      "min    2000.000000           0.087600\n",
      "25%    2005.000000           4.670575\n",
      "50%    2010.500000          21.406000\n",
      "75%    2016.000000          51.641075\n",
      "max    2021.000000        5498.520900\n",
      "\n",
      "\n"
     ]
    }
   ],
   "source": [
    "# Summary statistics\n",
    "print(\"Summary statistics:\")\n",
    "print(Emission_from_Crops_df.describe())\n",
    "print(\"\\n\")"
   ]
  },
  {
   "cell_type": "markdown",
   "id": "0ded2efc",
   "metadata": {},
   "source": [
    "- For the Emission_from_Crops df we first removed all the un necessary columns, renamed the remaining columns accordingly.\n",
    "- After that we checked for the data types, missing values and data distribution"
   ]
  },
  {
   "cell_type": "markdown",
   "id": "521ac53f",
   "metadata": {},
   "source": [
    "## Land_Use"
   ]
  },
  {
   "cell_type": "code",
   "execution_count": 24,
   "id": "ddd66124",
   "metadata": {},
   "outputs": [
    {
     "data": {
      "text/html": [
       "<div>\n",
       "<style scoped>\n",
       "    .dataframe tbody tr th:only-of-type {\n",
       "        vertical-align: middle;\n",
       "    }\n",
       "\n",
       "    .dataframe tbody tr th {\n",
       "        vertical-align: top;\n",
       "    }\n",
       "\n",
       "    .dataframe thead th {\n",
       "        text-align: right;\n",
       "    }\n",
       "</style>\n",
       "<table border=\"1\" class=\"dataframe\">\n",
       "  <thead>\n",
       "    <tr style=\"text-align: right;\">\n",
       "      <th></th>\n",
       "      <th>Country</th>\n",
       "      <th>Area_type</th>\n",
       "      <th>Year</th>\n",
       "      <th>Area_Unit</th>\n",
       "      <th>Area_Value</th>\n",
       "    </tr>\n",
       "  </thead>\n",
       "  <tbody>\n",
       "    <tr>\n",
       "      <th>0</th>\n",
       "      <td>Brazil</td>\n",
       "      <td>Land area</td>\n",
       "      <td>2000</td>\n",
       "      <td>1000 ha</td>\n",
       "      <td>835814.0</td>\n",
       "    </tr>\n",
       "    <tr>\n",
       "      <th>1</th>\n",
       "      <td>Brazil</td>\n",
       "      <td>Land area</td>\n",
       "      <td>2001</td>\n",
       "      <td>1000 ha</td>\n",
       "      <td>835814.0</td>\n",
       "    </tr>\n",
       "    <tr>\n",
       "      <th>2</th>\n",
       "      <td>Brazil</td>\n",
       "      <td>Land area</td>\n",
       "      <td>2002</td>\n",
       "      <td>1000 ha</td>\n",
       "      <td>835814.0</td>\n",
       "    </tr>\n",
       "    <tr>\n",
       "      <th>3</th>\n",
       "      <td>Brazil</td>\n",
       "      <td>Land area</td>\n",
       "      <td>2003</td>\n",
       "      <td>1000 ha</td>\n",
       "      <td>835814.0</td>\n",
       "    </tr>\n",
       "    <tr>\n",
       "      <th>4</th>\n",
       "      <td>Brazil</td>\n",
       "      <td>Land area</td>\n",
       "      <td>2004</td>\n",
       "      <td>1000 ha</td>\n",
       "      <td>835814.0</td>\n",
       "    </tr>\n",
       "  </tbody>\n",
       "</table>\n",
       "</div>"
      ],
      "text/plain": [
       "  Country  Area_type  Year Area_Unit  Area_Value\n",
       "0  Brazil  Land area  2000   1000 ha    835814.0\n",
       "1  Brazil  Land area  2001   1000 ha    835814.0\n",
       "2  Brazil  Land area  2002   1000 ha    835814.0\n",
       "3  Brazil  Land area  2003   1000 ha    835814.0\n",
       "4  Brazil  Land area  2004   1000 ha    835814.0"
      ]
     },
     "execution_count": 24,
     "metadata": {},
     "output_type": "execute_result"
    }
   ],
   "source": [
    "Land_Use_df = pd.read_csv(\"Land_Use.csv\")\n",
    "Land_Use_df.drop(['Domain Code', 'Domain', 'Area Code (M49)', 'Element Code', 'Element',\n",
    "                    'Item Code', 'Year Code', 'Flag', 'Flag Description', 'Note'], axis=1,inplace=True)\n",
    "Land_Use_df.rename(columns={'Area': 'Country','Item': 'Area_type', 'Value': 'Area_Value',  'Unit': 'Area_Unit'}, inplace=True)\n",
    "\n",
    "Land_Use_df.head()"
   ]
  },
  {
   "cell_type": "code",
   "execution_count": 25,
   "id": "da2c2a70",
   "metadata": {},
   "outputs": [
    {
     "name": "stdout",
     "output_type": "stream",
     "text": [
      "[2000 2001 2002 2003 2004 2005 2006 2007 2008 2009 2010 2011 2012 2013\n",
      " 2014 2015 2016 2017 2018 2019 2020 2021]\n"
     ]
    }
   ],
   "source": [
    "unique_values = Land_Use_df['Year'].unique()\n",
    "print(unique_values)"
   ]
  },
  {
   "cell_type": "code",
   "execution_count": 26,
   "id": "2db1a577",
   "metadata": {},
   "outputs": [
    {
     "data": {
      "text/html": [
       "<div>\n",
       "<style scoped>\n",
       "    .dataframe tbody tr th:only-of-type {\n",
       "        vertical-align: middle;\n",
       "    }\n",
       "\n",
       "    .dataframe tbody tr th {\n",
       "        vertical-align: top;\n",
       "    }\n",
       "\n",
       "    .dataframe thead th {\n",
       "        text-align: right;\n",
       "    }\n",
       "</style>\n",
       "<table border=\"1\" class=\"dataframe\">\n",
       "  <thead>\n",
       "    <tr style=\"text-align: right;\">\n",
       "      <th></th>\n",
       "      <th>Country</th>\n",
       "      <th>Area_type</th>\n",
       "      <th>Year</th>\n",
       "      <th>Area_Value_1000 ha</th>\n",
       "    </tr>\n",
       "  </thead>\n",
       "  <tbody>\n",
       "    <tr>\n",
       "      <th>0</th>\n",
       "      <td>Brazil</td>\n",
       "      <td>Land area</td>\n",
       "      <td>2000</td>\n",
       "      <td>835814.0</td>\n",
       "    </tr>\n",
       "    <tr>\n",
       "      <th>1</th>\n",
       "      <td>Brazil</td>\n",
       "      <td>Land area</td>\n",
       "      <td>2001</td>\n",
       "      <td>835814.0</td>\n",
       "    </tr>\n",
       "    <tr>\n",
       "      <th>2</th>\n",
       "      <td>Brazil</td>\n",
       "      <td>Land area</td>\n",
       "      <td>2002</td>\n",
       "      <td>835814.0</td>\n",
       "    </tr>\n",
       "    <tr>\n",
       "      <th>3</th>\n",
       "      <td>Brazil</td>\n",
       "      <td>Land area</td>\n",
       "      <td>2003</td>\n",
       "      <td>835814.0</td>\n",
       "    </tr>\n",
       "    <tr>\n",
       "      <th>4</th>\n",
       "      <td>Brazil</td>\n",
       "      <td>Land area</td>\n",
       "      <td>2004</td>\n",
       "      <td>835814.0</td>\n",
       "    </tr>\n",
       "  </tbody>\n",
       "</table>\n",
       "</div>"
      ],
      "text/plain": [
       "  Country  Area_type  Year  Area_Value_1000 ha\n",
       "0  Brazil  Land area  2000            835814.0\n",
       "1  Brazil  Land area  2001            835814.0\n",
       "2  Brazil  Land area  2002            835814.0\n",
       "3  Brazil  Land area  2003            835814.0\n",
       "4  Brazil  Land area  2004            835814.0"
      ]
     },
     "execution_count": 26,
     "metadata": {},
     "output_type": "execute_result"
    }
   ],
   "source": [
    "# Rename the \"Area_Value\" column to \"Area_Value_1000_ha\"\n",
    "\n",
    "Land_Use_df.rename(columns={'Area_Value': 'Area_Value_1000 ha'}, inplace=True)\n",
    "\n",
    "# Drop the \"Area_Unit\" column\n",
    "Land_Use_df.drop(columns=\"Area_Unit\", inplace=True)\n",
    "\n",
    "Land_Use_df.head()"
   ]
  },
  {
   "cell_type": "code",
   "execution_count": 27,
   "id": "01e38bd4",
   "metadata": {},
   "outputs": [
    {
     "name": "stdout",
     "output_type": "stream",
     "text": [
      "Country               0\n",
      "Area_type             0\n",
      "Year                  0\n",
      "Area_Value_1000 ha    0\n",
      "dtype: int64\n"
     ]
    }
   ],
   "source": [
    "null_values_count = Land_Use_df.isnull().sum()\n",
    "print(null_values_count)"
   ]
  },
  {
   "cell_type": "code",
   "execution_count": 28,
   "id": "9d27c02b",
   "metadata": {},
   "outputs": [
    {
     "name": "stdout",
     "output_type": "stream",
     "text": [
      "Data Types Check:\n",
      "Country                object\n",
      "Area_type              object\n",
      "Year                    int64\n",
      "Area_Value_1000 ha    float64\n",
      "dtype: object\n",
      "\n",
      "\n"
     ]
    }
   ],
   "source": [
    "# Data Types Check\n",
    "print(\"Data Types Check:\")\n",
    "print(Land_Use_df.dtypes)\n",
    "print(\"\\n\")"
   ]
  },
  {
   "cell_type": "code",
   "execution_count": 29,
   "id": "7b7040a6",
   "metadata": {},
   "outputs": [
    {
     "name": "stdout",
     "output_type": "stream",
     "text": [
      "Summary statistics:\n",
      "              Year  Area_Value_1000 ha\n",
      "count   176.000000          176.000000\n",
      "mean   2010.500000       410600.153506\n",
      "std       6.362389       382130.506957\n",
      "min    2000.000000        36000.000000\n",
      "25%    2005.000000       112991.190000\n",
      "50%    2010.500000       182925.950000\n",
      "75%    2016.000000       855546.000000\n",
      "max    2021.000000       942470.300000\n",
      "\n",
      "\n"
     ]
    }
   ],
   "source": [
    "# Summary statistics\n",
    "print(\"Summary statistics:\")\n",
    "print(Land_Use_df.describe())\n",
    "print(\"\\n\")"
   ]
  },
  {
   "cell_type": "markdown",
   "id": "2b15e68a",
   "metadata": {},
   "source": [
    "- For the Land_Use df we first removed all the un necessary columns, renamed the remaining columns accordingly.\n",
    "- Removed the Area_unit column and added the unit in the Area_Value column\n",
    "- After that we checked for the data types, missing values and data distribution"
   ]
  },
  {
   "cell_type": "markdown",
   "id": "5a79a312",
   "metadata": {},
   "source": [
    "## Pesticides_Use\n"
   ]
  },
  {
   "cell_type": "code",
   "execution_count": 30,
   "id": "d1ac7a8e",
   "metadata": {},
   "outputs": [
    {
     "data": {
      "text/html": [
       "<div>\n",
       "<style scoped>\n",
       "    .dataframe tbody tr th:only-of-type {\n",
       "        vertical-align: middle;\n",
       "    }\n",
       "\n",
       "    .dataframe tbody tr th {\n",
       "        vertical-align: top;\n",
       "    }\n",
       "\n",
       "    .dataframe thead th {\n",
       "        text-align: right;\n",
       "    }\n",
       "</style>\n",
       "<table border=\"1\" class=\"dataframe\">\n",
       "  <thead>\n",
       "    <tr style=\"text-align: right;\">\n",
       "      <th></th>\n",
       "      <th>Country</th>\n",
       "      <th>Pesticide_Type</th>\n",
       "      <th>Year</th>\n",
       "      <th>Pesticide_Unit</th>\n",
       "      <th>Pesticide_Value</th>\n",
       "    </tr>\n",
       "  </thead>\n",
       "  <tbody>\n",
       "    <tr>\n",
       "      <th>0</th>\n",
       "      <td>Brazil</td>\n",
       "      <td>Pesticides (total)</td>\n",
       "      <td>2000</td>\n",
       "      <td>t</td>\n",
       "      <td>141130.0</td>\n",
       "    </tr>\n",
       "    <tr>\n",
       "      <th>1</th>\n",
       "      <td>Brazil</td>\n",
       "      <td>Pesticides (total)</td>\n",
       "      <td>2001</td>\n",
       "      <td>t</td>\n",
       "      <td>152271.0</td>\n",
       "    </tr>\n",
       "    <tr>\n",
       "      <th>2</th>\n",
       "      <td>Brazil</td>\n",
       "      <td>Pesticides (total)</td>\n",
       "      <td>2002</td>\n",
       "      <td>t</td>\n",
       "      <td>146264.0</td>\n",
       "    </tr>\n",
       "    <tr>\n",
       "      <th>3</th>\n",
       "      <td>Brazil</td>\n",
       "      <td>Pesticides (total)</td>\n",
       "      <td>2003</td>\n",
       "      <td>t</td>\n",
       "      <td>183340.0</td>\n",
       "    </tr>\n",
       "    <tr>\n",
       "      <th>4</th>\n",
       "      <td>Brazil</td>\n",
       "      <td>Pesticides (total)</td>\n",
       "      <td>2004</td>\n",
       "      <td>t</td>\n",
       "      <td>215779.0</td>\n",
       "    </tr>\n",
       "  </tbody>\n",
       "</table>\n",
       "</div>"
      ],
      "text/plain": [
       "  Country      Pesticide_Type  Year Pesticide_Unit  Pesticide_Value\n",
       "0  Brazil  Pesticides (total)  2000              t         141130.0\n",
       "1  Brazil  Pesticides (total)  2001              t         152271.0\n",
       "2  Brazil  Pesticides (total)  2002              t         146264.0\n",
       "3  Brazil  Pesticides (total)  2003              t         183340.0\n",
       "4  Brazil  Pesticides (total)  2004              t         215779.0"
      ]
     },
     "execution_count": 30,
     "metadata": {},
     "output_type": "execute_result"
    }
   ],
   "source": [
    "Pesticides_Use_df = pd.read_csv(\"Pesticides_Use.csv\")\n",
    "Pesticides_Use_df.drop(['Domain Code', 'Domain', 'Area Code (M49)', 'Element Code', 'Element',\n",
    "                    'Item Code', 'Year Code', 'Flag', 'Flag Description', 'Note'], axis=1,inplace=True)\n",
    "Pesticides_Use_df.rename(columns={'Area':'Country','Item': 'Pesticide_Type', 'Value': 'Pesticide_Value',  'Unit': 'Pesticide_Unit'}, inplace=True)\n",
    "\n",
    "Pesticides_Use_df.head()"
   ]
  },
  {
   "cell_type": "code",
   "execution_count": 31,
   "id": "f908b8f4",
   "metadata": {},
   "outputs": [
    {
     "name": "stdout",
     "output_type": "stream",
     "text": [
      "[2000 2001 2002 2003 2004 2005 2006 2007 2008 2009 2010 2011 2012 2013\n",
      " 2014 2015 2016 2017 2018 2019 2020 2021]\n"
     ]
    }
   ],
   "source": [
    "unique_values = Pesticides_Use_df['Year'].unique()\n",
    "print(unique_values)"
   ]
  },
  {
   "cell_type": "code",
   "execution_count": 32,
   "id": "e9e0f55d",
   "metadata": {},
   "outputs": [
    {
     "data": {
      "text/html": [
       "<div>\n",
       "<style scoped>\n",
       "    .dataframe tbody tr th:only-of-type {\n",
       "        vertical-align: middle;\n",
       "    }\n",
       "\n",
       "    .dataframe tbody tr th {\n",
       "        vertical-align: top;\n",
       "    }\n",
       "\n",
       "    .dataframe thead th {\n",
       "        text-align: right;\n",
       "    }\n",
       "</style>\n",
       "<table border=\"1\" class=\"dataframe\">\n",
       "  <thead>\n",
       "    <tr style=\"text-align: right;\">\n",
       "      <th></th>\n",
       "      <th>Country</th>\n",
       "      <th>Pesticide_Type</th>\n",
       "      <th>Year</th>\n",
       "      <th>Pesticide_Value_t</th>\n",
       "    </tr>\n",
       "  </thead>\n",
       "  <tbody>\n",
       "    <tr>\n",
       "      <th>0</th>\n",
       "      <td>Brazil</td>\n",
       "      <td>Pesticides (total)</td>\n",
       "      <td>2000</td>\n",
       "      <td>141130.0</td>\n",
       "    </tr>\n",
       "    <tr>\n",
       "      <th>1</th>\n",
       "      <td>Brazil</td>\n",
       "      <td>Pesticides (total)</td>\n",
       "      <td>2001</td>\n",
       "      <td>152271.0</td>\n",
       "    </tr>\n",
       "    <tr>\n",
       "      <th>2</th>\n",
       "      <td>Brazil</td>\n",
       "      <td>Pesticides (total)</td>\n",
       "      <td>2002</td>\n",
       "      <td>146264.0</td>\n",
       "    </tr>\n",
       "    <tr>\n",
       "      <th>3</th>\n",
       "      <td>Brazil</td>\n",
       "      <td>Pesticides (total)</td>\n",
       "      <td>2003</td>\n",
       "      <td>183340.0</td>\n",
       "    </tr>\n",
       "    <tr>\n",
       "      <th>4</th>\n",
       "      <td>Brazil</td>\n",
       "      <td>Pesticides (total)</td>\n",
       "      <td>2004</td>\n",
       "      <td>215779.0</td>\n",
       "    </tr>\n",
       "  </tbody>\n",
       "</table>\n",
       "</div>"
      ],
      "text/plain": [
       "  Country      Pesticide_Type  Year  Pesticide_Value_t\n",
       "0  Brazil  Pesticides (total)  2000           141130.0\n",
       "1  Brazil  Pesticides (total)  2001           152271.0\n",
       "2  Brazil  Pesticides (total)  2002           146264.0\n",
       "3  Brazil  Pesticides (total)  2003           183340.0\n",
       "4  Brazil  Pesticides (total)  2004           215779.0"
      ]
     },
     "execution_count": 32,
     "metadata": {},
     "output_type": "execute_result"
    }
   ],
   "source": [
    "# Rename the \"Pesticide_Value\" column to \"Pesticide_Value_t\"\n",
    "\n",
    "Pesticides_Use_df.rename(columns={'Pesticide_Value': 'Pesticide_Value_t'}, inplace=True)\n",
    "\n",
    "# Drop the \"Pesticide_Unit\" column\n",
    "Pesticides_Use_df.drop(columns=\"Pesticide_Unit\", inplace=True)\n",
    "\n",
    "Pesticides_Use_df.head()"
   ]
  },
  {
   "cell_type": "code",
   "execution_count": 33,
   "id": "ce1f65c3",
   "metadata": {},
   "outputs": [
    {
     "name": "stdout",
     "output_type": "stream",
     "text": [
      "Country              0\n",
      "Pesticide_Type       0\n",
      "Year                 0\n",
      "Pesticide_Value_t    0\n",
      "dtype: int64\n"
     ]
    }
   ],
   "source": [
    "null_values_count = Pesticides_Use_df.isnull().sum()\n",
    "print(null_values_count)"
   ]
  },
  {
   "cell_type": "code",
   "execution_count": 34,
   "id": "cabc9813",
   "metadata": {},
   "outputs": [
    {
     "name": "stdout",
     "output_type": "stream",
     "text": [
      "Data Types Check:\n",
      "Country               object\n",
      "Pesticide_Type        object\n",
      "Year                   int64\n",
      "Pesticide_Value_t    float64\n",
      "dtype: object\n",
      "\n",
      "\n"
     ]
    }
   ],
   "source": [
    "# Data Types Check\n",
    "print(\"Data Types Check:\")\n",
    "print(Pesticides_Use_df.dtypes)\n",
    "print(\"\\n\")"
   ]
  },
  {
   "cell_type": "code",
   "execution_count": 35,
   "id": "cdd91762",
   "metadata": {},
   "outputs": [
    {
     "name": "stdout",
     "output_type": "stream",
     "text": [
      "Summary statistics:\n",
      "              Year  Pesticide_Value_t\n",
      "count   264.000000         264.000000\n",
      "mean   2010.500000      158752.834318\n",
      "std       6.356339      146795.090418\n",
      "min    2000.000000       17262.000000\n",
      "25%    2005.000000       62874.725000\n",
      "50%    2010.500000       90584.680000\n",
      "75%    2016.000000      255738.977500\n",
      "max    2021.000000      719507.000000\n",
      "\n",
      "\n"
     ]
    }
   ],
   "source": [
    "# Summary statistics\n",
    "print(\"Summary statistics:\")\n",
    "print(Pesticides_Use_df.describe())\n",
    "print(\"\\n\")"
   ]
  },
  {
   "cell_type": "markdown",
   "id": "46377718",
   "metadata": {},
   "source": [
    "- For the Pesticide_Use df we first removed all the un necessary columns, renamed the remaining columns accordingly.\n",
    "- Removed the Pesticide_Unit column and added the unit in the pesticide_Value column\n",
    "- After that we checked for the data types, missing values and data distribution"
   ]
  },
  {
   "cell_type": "markdown",
   "id": "c3eb1b58",
   "metadata": {},
   "source": [
    "## Value_of_Agricultural_production"
   ]
  },
  {
   "cell_type": "code",
   "execution_count": 36,
   "id": "6865942a",
   "metadata": {},
   "outputs": [
    {
     "data": {
      "text/html": [
       "<div>\n",
       "<style scoped>\n",
       "    .dataframe tbody tr th:only-of-type {\n",
       "        vertical-align: middle;\n",
       "    }\n",
       "\n",
       "    .dataframe tbody tr th {\n",
       "        vertical-align: top;\n",
       "    }\n",
       "\n",
       "    .dataframe thead th {\n",
       "        text-align: right;\n",
       "    }\n",
       "</style>\n",
       "<table border=\"1\" class=\"dataframe\">\n",
       "  <thead>\n",
       "    <tr style=\"text-align: right;\">\n",
       "      <th></th>\n",
       "      <th>Country</th>\n",
       "      <th>Crop_Name</th>\n",
       "      <th>Year</th>\n",
       "      <th>Gross_Production_Value_1000 USD</th>\n",
       "    </tr>\n",
       "  </thead>\n",
       "  <tbody>\n",
       "    <tr>\n",
       "      <th>0</th>\n",
       "      <td>Brazil</td>\n",
       "      <td>Maize (corn)</td>\n",
       "      <td>2000</td>\n",
       "      <td>3568843</td>\n",
       "    </tr>\n",
       "    <tr>\n",
       "      <th>1</th>\n",
       "      <td>Brazil</td>\n",
       "      <td>Maize (corn)</td>\n",
       "      <td>2001</td>\n",
       "      <td>2911084</td>\n",
       "    </tr>\n",
       "    <tr>\n",
       "      <th>2</th>\n",
       "      <td>Brazil</td>\n",
       "      <td>Maize (corn)</td>\n",
       "      <td>2002</td>\n",
       "      <td>3209618</td>\n",
       "    </tr>\n",
       "    <tr>\n",
       "      <th>3</th>\n",
       "      <td>Brazil</td>\n",
       "      <td>Maize (corn)</td>\n",
       "      <td>2003</td>\n",
       "      <td>4973278</td>\n",
       "    </tr>\n",
       "    <tr>\n",
       "      <th>4</th>\n",
       "      <td>Brazil</td>\n",
       "      <td>Maize (corn)</td>\n",
       "      <td>2004</td>\n",
       "      <td>4321472</td>\n",
       "    </tr>\n",
       "  </tbody>\n",
       "</table>\n",
       "</div>"
      ],
      "text/plain": [
       "  Country     Crop_Name  Year  Gross_Production_Value_1000 USD\n",
       "0  Brazil  Maize (corn)  2000                          3568843\n",
       "1  Brazil  Maize (corn)  2001                          2911084\n",
       "2  Brazil  Maize (corn)  2002                          3209618\n",
       "3  Brazil  Maize (corn)  2003                          4973278\n",
       "4  Brazil  Maize (corn)  2004                          4321472"
      ]
     },
     "execution_count": 36,
     "metadata": {},
     "output_type": "execute_result"
    }
   ],
   "source": [
    "Value_of_Agricultural_production_df = pd.read_csv(\"Value_of_Agricultural_Production.csv\")\n",
    "Value_of_Agricultural_production_df.drop(['Domain Code', 'Domain', 'Area Code (M49)', 'Element', 'Element Code', 'Unit',\n",
    "                         'Item Code (CPC)', 'Year Code', 'Flag', 'Flag Description'], axis=1,inplace=True)\n",
    "Value_of_Agricultural_production_df = Value_of_Agricultural_production_df[Value_of_Agricultural_production_df['Year'].between(2000, 2021)]\n",
    "Value_of_Agricultural_production_df.rename(columns={'Area':'Country','Item': 'Crop_Name', 'Value': 'Gross_Production_Value_1000 USD',  'Unit': 'Agri_Prod_Unit'}, inplace=True)\n",
    "Value_of_Agricultural_production_df.head()"
   ]
  },
  {
   "cell_type": "code",
   "execution_count": 37,
   "id": "799e7583",
   "metadata": {},
   "outputs": [
    {
     "name": "stdout",
     "output_type": "stream",
     "text": [
      "[2000 2001 2002 2003 2004 2005 2006 2007 2008 2009 2010 2011 2012 2013\n",
      " 2014 2015 2016 2018 2019 2020 2021 2017]\n"
     ]
    }
   ],
   "source": [
    "unique_values = Value_of_Agricultural_production_df['Year'].unique()\n",
    "print(unique_values)"
   ]
  },
  {
   "cell_type": "code",
   "execution_count": 38,
   "id": "84a1fecd",
   "metadata": {},
   "outputs": [
    {
     "name": "stdout",
     "output_type": "stream",
     "text": [
      "Country                            0\n",
      "Crop_Name                          0\n",
      "Year                               0\n",
      "Gross_Production_Value_1000 USD    0\n",
      "dtype: int64\n"
     ]
    }
   ],
   "source": [
    "null_values_count = Value_of_Agricultural_production_df.isnull().sum()\n",
    "print(null_values_count)"
   ]
  },
  {
   "cell_type": "code",
   "execution_count": 39,
   "id": "f17ea7ce",
   "metadata": {},
   "outputs": [
    {
     "name": "stdout",
     "output_type": "stream",
     "text": [
      "Data Types Check:\n",
      "Country                            object\n",
      "Crop_Name                          object\n",
      "Year                                int64\n",
      "Gross_Production_Value_1000 USD     int64\n",
      "dtype: object\n",
      "\n",
      "\n"
     ]
    }
   ],
   "source": [
    "# Data Types Check\n",
    "print(\"Data Types Check:\")\n",
    "print(Value_of_Agricultural_production_df.dtypes)\n",
    "print(\"\\n\")"
   ]
  },
  {
   "cell_type": "code",
   "execution_count": 40,
   "id": "7fc2b58d",
   "metadata": {},
   "outputs": [
    {
     "name": "stdout",
     "output_type": "stream",
     "text": [
      "Summary statistics:\n",
      "              Year  Gross_Production_Value_1000 USD\n",
      "count   317.000000                     3.170000e+02\n",
      "mean   2010.378549                     2.250750e+07\n",
      "std       6.388918                     2.660852e+07\n",
      "min    2000.000000                     1.399650e+05\n",
      "25%    2005.000000                     3.093187e+06\n",
      "50%    2010.000000                     1.119367e+07\n",
      "75%    2016.000000                     3.500326e+07\n",
      "max    2021.000000                     1.181838e+08\n",
      "\n",
      "\n"
     ]
    }
   ],
   "source": [
    "# Summary statistics\n",
    "print(\"Summary statistics:\")\n",
    "print(Value_of_Agricultural_production_df.describe())\n",
    "print(\"\\n\")"
   ]
  },
  {
   "cell_type": "markdown",
   "id": "808ead1a",
   "metadata": {},
   "source": [
    "- For the Value_of_Agricultural_production df we first removed all the un necessary columns, renamed the remaining columns accordingly.\n",
    "- After that we checked for the data types, missing values and data distribution"
   ]
  },
  {
   "cell_type": "markdown",
   "id": "8933a6e4",
   "metadata": {},
   "source": [
    "## Cropland_Nutrient_Balance"
   ]
  },
  {
   "cell_type": "code",
   "execution_count": 41,
   "id": "5eb8c3e5",
   "metadata": {},
   "outputs": [
    {
     "data": {
      "text/html": [
       "<div>\n",
       "<style scoped>\n",
       "    .dataframe tbody tr th:only-of-type {\n",
       "        vertical-align: middle;\n",
       "    }\n",
       "\n",
       "    .dataframe tbody tr th {\n",
       "        vertical-align: top;\n",
       "    }\n",
       "\n",
       "    .dataframe thead th {\n",
       "        text-align: right;\n",
       "    }\n",
       "</style>\n",
       "<table border=\"1\" class=\"dataframe\">\n",
       "  <thead>\n",
       "    <tr style=\"text-align: right;\">\n",
       "      <th></th>\n",
       "      <th>Country</th>\n",
       "      <th>Cropland_Nutrient_Management_Metrics</th>\n",
       "      <th>Input_Factors</th>\n",
       "      <th>Year</th>\n",
       "      <th>Fertilizer_Usage_Value_kg/ha</th>\n",
       "    </tr>\n",
       "  </thead>\n",
       "  <tbody>\n",
       "    <tr>\n",
       "      <th>0</th>\n",
       "      <td>Brazil</td>\n",
       "      <td>Cropland nitrogen per unit area</td>\n",
       "      <td>Mineral fertilizers</td>\n",
       "      <td>2000</td>\n",
       "      <td>30.0631</td>\n",
       "    </tr>\n",
       "    <tr>\n",
       "      <th>1</th>\n",
       "      <td>Brazil</td>\n",
       "      <td>Cropland phosphorus per unit area</td>\n",
       "      <td>Mineral fertilizers</td>\n",
       "      <td>2000</td>\n",
       "      <td>19.3971</td>\n",
       "    </tr>\n",
       "    <tr>\n",
       "      <th>2</th>\n",
       "      <td>Brazil</td>\n",
       "      <td>Cropland potassium per unit area</td>\n",
       "      <td>Mineral fertilizers</td>\n",
       "      <td>2000</td>\n",
       "      <td>40.2513</td>\n",
       "    </tr>\n",
       "    <tr>\n",
       "      <th>3</th>\n",
       "      <td>Brazil</td>\n",
       "      <td>Cropland nitrogen per unit area</td>\n",
       "      <td>Mineral fertilizers</td>\n",
       "      <td>2001</td>\n",
       "      <td>27.1622</td>\n",
       "    </tr>\n",
       "    <tr>\n",
       "      <th>4</th>\n",
       "      <td>Brazil</td>\n",
       "      <td>Cropland phosphorus per unit area</td>\n",
       "      <td>Mineral fertilizers</td>\n",
       "      <td>2001</td>\n",
       "      <td>19.4901</td>\n",
       "    </tr>\n",
       "  </tbody>\n",
       "</table>\n",
       "</div>"
      ],
      "text/plain": [
       "  Country Cropland_Nutrient_Management_Metrics        Input_Factors  Year  \\\n",
       "0  Brazil      Cropland nitrogen per unit area  Mineral fertilizers  2000   \n",
       "1  Brazil    Cropland phosphorus per unit area  Mineral fertilizers  2000   \n",
       "2  Brazil     Cropland potassium per unit area  Mineral fertilizers  2000   \n",
       "3  Brazil      Cropland nitrogen per unit area  Mineral fertilizers  2001   \n",
       "4  Brazil    Cropland phosphorus per unit area  Mineral fertilizers  2001   \n",
       "\n",
       "   Fertilizer_Usage_Value_kg/ha  \n",
       "0                       30.0631  \n",
       "1                       19.3971  \n",
       "2                       40.2513  \n",
       "3                       27.1622  \n",
       "4                       19.4901  "
      ]
     },
     "execution_count": 41,
     "metadata": {},
     "output_type": "execute_result"
    }
   ],
   "source": [
    "Cropland_Nutrient_Balance_df = pd.read_csv(\"Cropland_Nutrient_Balance.csv\")\n",
    "Cropland_Nutrient_Balance_df.drop(['Domain Code', 'Domain', 'Area Code (M49)', 'Element Code', 'Unit',\n",
    "                         'Item Code', 'Year Code', 'Flag', 'Flag Description', 'Note'], axis=1,inplace=True)\n",
    "Cropland_Nutrient_Balance_df = Cropland_Nutrient_Balance_df[Cropland_Nutrient_Balance_df['Year'].between(2000, 2021)]\n",
    "Cropland_Nutrient_Balance_df.rename(columns={'Area':'Country','Element': 'Cropland_Nutrient_Management_Metrics','Item': 'Input_Factors', 'Value': 'Fertilizer_Usage_Value_kg/ha',  'Unit': 'Agri_Prod_Unit'}, inplace=True)\n",
    "Cropland_Nutrient_Balance_df.head()"
   ]
  },
  {
   "cell_type": "code",
   "execution_count": 42,
   "id": "caa1168f",
   "metadata": {},
   "outputs": [
    {
     "name": "stdout",
     "output_type": "stream",
     "text": [
      "[2000 2001 2002 2003 2004 2005 2006 2007 2008 2009 2010 2011 2012 2013\n",
      " 2014 2015 2016 2017 2018 2019 2020 2021]\n"
     ]
    }
   ],
   "source": [
    "unique_values = Cropland_Nutrient_Balance_df['Year'].unique()\n",
    "print(unique_values)"
   ]
  },
  {
   "cell_type": "code",
   "execution_count": 43,
   "id": "a4c0567c",
   "metadata": {},
   "outputs": [
    {
     "name": "stdout",
     "output_type": "stream",
     "text": [
      "Country                                   0\n",
      "Cropland_Nutrient_Management_Metrics      0\n",
      "Input_Factors                             0\n",
      "Year                                      0\n",
      "Fertilizer_Usage_Value_kg/ha            440\n",
      "dtype: int64\n"
     ]
    }
   ],
   "source": [
    "null_values_count = Cropland_Nutrient_Balance_df.isnull().sum()\n",
    "print(null_values_count)"
   ]
  },
  {
   "cell_type": "code",
   "execution_count": 44,
   "id": "31831036",
   "metadata": {},
   "outputs": [],
   "source": [
    "total_values = Cropland_Nutrient_Balance_df.shape[0]"
   ]
  },
  {
   "cell_type": "code",
   "execution_count": 45,
   "id": "6d6291e7",
   "metadata": {},
   "outputs": [
    {
     "name": "stdout",
     "output_type": "stream",
     "text": [
      "Country                                  0.000000\n",
      "Cropland_Nutrient_Management_Metrics     0.000000\n",
      "Input_Factors                            0.000000\n",
      "Year                                     0.000000\n",
      "Fertilizer_Usage_Value_kg/ha            27.777778\n",
      "dtype: float64\n"
     ]
    }
   ],
   "source": [
    "percentage_missing = (null_values_count / total_values) * 100\n",
    "\n",
    "# Display the result\n",
    "print(percentage_missing)"
   ]
  },
  {
   "cell_type": "code",
   "execution_count": 46,
   "id": "1da6177c",
   "metadata": {},
   "outputs": [
    {
     "data": {
      "image/png": "[encoded data removed]",
      "text/plain": [
       "<Figure size 1000x600 with 1 Axes>"
      ]
     },
     "metadata": {},
     "output_type": "display_data"
    }
   ],
   "source": [
    "# Visualize Fertilizer Usage Distribution\n",
    "plt.figure(figsize=(10, 6))\n",
    "sns.boxplot(x='Input_Factors', y='Fertilizer_Usage_Value_kg/ha', data=Cropland_Nutrient_Balance_df)\n",
    "plt.title('Distribution of Fertilizer Usage by Input Factors')\n",
    "plt.xlabel('Input Factors')\n",
    "plt.ylabel('Fertilizer Usage')\n",
    "plt.xticks(rotation=45)\n",
    "plt.show()"
   ]
  },
  {
   "cell_type": "markdown",
   "id": "cea5e7b6",
   "metadata": {},
   "source": [
    "- There is a considerable variation in fertilizer usage across different input factors.\n",
    "- The \"Mineral fertilizers\" and \"Manure applied to soils\" input factors seem to have higher fertilizer usage compared to others.\n",
    "- The \"Crop residual,\" \"Biological fixation,\" \"Seed,\" and \"Leaching\" input factors have lower fertilizer usage, with a higher presence of potential outliers."
   ]
  },
  {
   "cell_type": "code",
   "execution_count": 47,
   "id": "a5717707",
   "metadata": {},
   "outputs": [
    {
     "data": {
      "image/png": "[encoded data removed]",
      "text/plain": [
       "<Figure size 1000x600 with 1 Axes>"
      ]
     },
     "metadata": {},
     "output_type": "display_data"
    }
   ],
   "source": [
    "# Investigate Group Sizes\n",
    "group_sizes = Cropland_Nutrient_Balance_df['Input_Factors'].value_counts()\n",
    "plt.figure(figsize=(10, 6))\n",
    "sns.barplot(x=group_sizes.index, y=group_sizes.values)\n",
    "plt.title('Group Sizes by Input Factors')\n",
    "plt.xlabel('Input Factors')\n",
    "plt.ylabel('Group Size')\n",
    "plt.xticks(rotation=45)\n",
    "plt.show()"
   ]
  },
  {
   "cell_type": "markdown",
   "id": "37bb412b",
   "metadata": {},
   "source": [
    "- The group sizes for different input factors vary significantly.\n",
    "- \"Mineral fertilizers\" and \"Manure applied to soils\" have the largest group sizes, followed by \"Crop residual\" and \"Biological fixation.\"\n",
    "- \"Seed\" and \"Leaching\" have relatively smaller group sizes."
   ]
  },
  {
   "cell_type": "code",
   "execution_count": 48,
   "id": "30e7bc7f",
   "metadata": {},
   "outputs": [
    {
     "data": {
      "image/png": "[encoded data removed]",
      "text/plain": [
       "<Figure size 800x600 with 1 Axes>"
      ]
     },
     "metadata": {},
     "output_type": "display_data"
    }
   ],
   "source": [
    "# Visual inspection using boxplot\n",
    "plt.figure(figsize=(8, 6))\n",
    "sns.boxplot(x=Cropland_Nutrient_Balance_df['Fertilizer_Usage_Value_kg/ha'])\n",
    "plt.title('Boxplot of Fertilizer Usage')\n",
    "plt.xlabel('Fertilizer Usage')\n",
    "plt.show()"
   ]
  },
  {
   "cell_type": "markdown",
   "id": "3780fd66",
   "metadata": {},
   "source": [
    "- The boxplot reveals the presence of several outliers, with some extreme values in the fertilizer usage data.\n",
    "- The distribution of fertilizer usage appears to be right-skewed, with a long tail towards higher values."
   ]
  },
  {
   "cell_type": "code",
   "execution_count": 49,
   "id": "f40db474",
   "metadata": {},
   "outputs": [
    {
     "data": {
      "image/png": "[encoded data removed]",
      "text/plain": [
       "<Figure size 800x600 with 1 Axes>"
      ]
     },
     "metadata": {},
     "output_type": "display_data"
    }
   ],
   "source": [
    "# Visualize distribution before imputation\n",
    "plt.figure(figsize=(8, 6))\n",
    "plt.hist(Cropland_Nutrient_Balance_df[\"Fertilizer_Usage_Value_kg/ha\"].dropna(), bins=20, color='skyblue', edgecolor='black')\n",
    "plt.title('Fertilizer Usage Distribution (Before Imputation)')\n",
    "plt.xlabel('Fertilizer Usage (kg/ha)')\n",
    "plt.ylabel('Frequency')\n",
    "plt.show()\n"
   ]
  },
  {
   "cell_type": "markdown",
   "id": "4f9de599",
   "metadata": {},
   "source": [
    "### *Filling Missing Data*"
   ]
  },
  {
   "cell_type": "code",
   "execution_count": 50,
   "id": "43d3c369",
   "metadata": {},
   "outputs": [],
   "source": [
    "from scipy.stats.mstats import winsorize\n",
    "\n",
    "winsorized_values = winsorize(Cropland_Nutrient_Balance_df['Fertilizer_Usage_Value_kg/ha'], \n",
    "                              limits=(0.05, 0.95))\n"
   ]
  },
  {
   "cell_type": "code",
   "execution_count": 51,
   "id": "0f09b369",
   "metadata": {},
   "outputs": [],
   "source": [
    "# Convert the winsorized values array into a pandas Series\n",
    "winsorized_series = pd.Series(winsorized_values)"
   ]
  },
  {
   "cell_type": "code",
   "execution_count": 52,
   "id": "32fcc9a4",
   "metadata": {},
   "outputs": [],
   "source": [
    "# Fill the missing values in the original DataFrame with the winsorized values\n",
    "Cropland_Nutrient_Balance_df['Fertilizer_Usage_Value_kg/ha'] = Cropland_Nutrient_Balance_df['Fertilizer_Usage_Value_kg/ha'].fillna(winsorized_series)"
   ]
  },
  {
   "cell_type": "code",
   "execution_count": 53,
   "id": "ba3309f3",
   "metadata": {},
   "outputs": [
    {
     "name": "stdout",
     "output_type": "stream",
     "text": [
      "Missing values after imputation:\n",
      "Country                                 0\n",
      "Cropland_Nutrient_Management_Metrics    0\n",
      "Input_Factors                           0\n",
      "Year                                    0\n",
      "Fertilizer_Usage_Value_kg/ha            0\n",
      "dtype: int64\n"
     ]
    }
   ],
   "source": [
    "# Verify that there are no more missing values\n",
    "missing_values_after_imputation = Cropland_Nutrient_Balance_df.isnull().sum()\n",
    "print(\"Missing values after imputation:\")\n",
    "print(missing_values_after_imputation)"
   ]
  },
  {
   "cell_type": "code",
   "execution_count": 54,
   "id": "beb67eb6",
   "metadata": {},
   "outputs": [
    {
     "data": {
      "image/png": "[encoded data removed]",
      "text/plain": [
       "<Figure size 800x600 with 1 Axes>"
      ]
     },
     "metadata": {},
     "output_type": "display_data"
    }
   ],
   "source": [
    "# Visualize distribution before imputation\n",
    "plt.figure(figsize=(8, 6))\n",
    "plt.hist(Cropland_Nutrient_Balance_df[\"Fertilizer_Usage_Value_kg/ha\"].dropna(), bins=20, color='orange', edgecolor='black')\n",
    "plt.title('Fertilizer Usage Distribution (After Imputation)')\n",
    "plt.xlabel('Fertilizer Usage (kg/ha)')\n",
    "plt.ylabel('Frequency')\n",
    "plt.show()\n"
   ]
  },
  {
   "cell_type": "markdown",
   "id": "85b0785c",
   "metadata": {},
   "source": [
    "When addressing missing values in the dataset, it's crucial to choose an appropriate imputation method that preserves the integrity of the data and minimizes the impact of missingness on subsequent analyses. In the context of our dataset, which includes the \"Fertilizer_Usage_Value_kg/ha\" column with missing values, we considered several imputation methods before selecting the Winsorized mean over the more common mean and median imputation techniques. Below, we provide rationale for our choice:\n",
    "\n",
    "The distribution of fertilizer usage after imputation appears to have a more pronounced peak around 0-50 kg/ha compared to the original distribution. This could potentially indicate that the imputed values are skewing the distribution towards lower values. \n",
    "\n",
    "Due to the varying group sizes and potential non-normality of the fertilizer usage distribution, mean imputation and median imputation based on input factors may not be the most appropriate method.\n",
    "\n",
    "In our dataset, the \"Fertilizer_Usage_Value_kg/ha\" column exhibits variability and may contain outliers due to factors such as varying agricultural practices and environmental conditions across different regions and input factors. Given the need for a robust imputation method that accounts for outliers while preserving the overall distribution of the data, we opted for Winsorized mean imputation. This approach allows us to fill missing values with estimates that are less sensitive to extreme values, resulting in more reliable imputed values for subsequent analyses."
   ]
  },
  {
   "cell_type": "markdown",
   "id": "ecb234c5",
   "metadata": {},
   "source": [
    "## Merging the Data"
   ]
  },
  {
   "cell_type": "code",
   "execution_count": 55,
   "id": "547d479a",
   "metadata": {},
   "outputs": [],
   "source": [
    "merged_df = pd.merge(Crop_Production_pivot_df, Crop_Trade_pivot_df, on=['Country', 'Year','Crop_Name'], how='inner')\n",
    "merged_df = pd.merge(merged_df,Emission_from_Crops_df, on=['Country', 'Year','Crop_Name'], how='inner')\n",
    "merged_df = pd.merge(merged_df,Value_of_Agricultural_production_df, on=['Country', 'Year','Crop_Name'], how='inner')\n",
    "merged_df = pd.merge(merged_df, Land_Use_df, on=['Country', 'Year'], how='inner')\n",
    "merged_df = pd.merge(merged_df,Pesticides_Use_df, on=['Country', 'Year'], how='inner')\n",
    "merged_df = pd.merge(merged_df,Cropland_Nutrient_Balance_df, on=['Country', 'Year'], how='inner')"
   ]
  },
  {
   "cell_type": "code",
   "execution_count": 56,
   "id": "002cc830",
   "metadata": {},
   "outputs": [
    {
     "data": {
      "text/html": [
       "<div>\n",
       "<style scoped>\n",
       "    .dataframe tbody tr th:only-of-type {\n",
       "        vertical-align: middle;\n",
       "    }\n",
       "\n",
       "    .dataframe tbody tr th {\n",
       "        vertical-align: top;\n",
       "    }\n",
       "\n",
       "    .dataframe thead th {\n",
       "        text-align: right;\n",
       "    }\n",
       "</style>\n",
       "<table border=\"1\" class=\"dataframe\">\n",
       "  <thead>\n",
       "    <tr style=\"text-align: right;\">\n",
       "      <th></th>\n",
       "      <th>Country</th>\n",
       "      <th>Crop_Name</th>\n",
       "      <th>Year</th>\n",
       "      <th>Area harvested_ha</th>\n",
       "      <th>Production_t</th>\n",
       "      <th>Yield_100 g/ha</th>\n",
       "      <th>Export Quantity_t</th>\n",
       "      <th>Export Value_1000 USD</th>\n",
       "      <th>Import Quantity_t</th>\n",
       "      <th>Import Value_1000 USD</th>\n",
       "      <th>Emission_type</th>\n",
       "      <th>Emission_Value_kt</th>\n",
       "      <th>Gross_Production_Value_1000 USD</th>\n",
       "      <th>Area_type</th>\n",
       "      <th>Area_Value_1000 ha</th>\n",
       "      <th>Pesticide_Type</th>\n",
       "      <th>Pesticide_Value_t</th>\n",
       "      <th>Cropland_Nutrient_Management_Metrics</th>\n",
       "      <th>Input_Factors</th>\n",
       "      <th>Fertilizer_Usage_Value_kg/ha</th>\n",
       "    </tr>\n",
       "  </thead>\n",
       "  <tbody>\n",
       "    <tr>\n",
       "      <th>0</th>\n",
       "      <td>Brazil</td>\n",
       "      <td>Maize (corn)</td>\n",
       "      <td>2000</td>\n",
       "      <td>11890376.0</td>\n",
       "      <td>32321000.0</td>\n",
       "      <td>27182.0</td>\n",
       "      <td>6699.0</td>\n",
       "      <td>9366.0</td>\n",
       "      <td>1771194.0</td>\n",
       "      <td>201960.0</td>\n",
       "      <td>Crops total (Emissions N2O)</td>\n",
       "      <td>6.4353</td>\n",
       "      <td>3568843</td>\n",
       "      <td>Land area</td>\n",
       "      <td>835814.0</td>\n",
       "      <td>Pesticides (total)</td>\n",
       "      <td>141130.0</td>\n",
       "      <td>Cropland nitrogen per unit area</td>\n",
       "      <td>Mineral fertilizers</td>\n",
       "      <td>30.0631</td>\n",
       "    </tr>\n",
       "    <tr>\n",
       "      <th>1</th>\n",
       "      <td>Brazil</td>\n",
       "      <td>Maize (corn)</td>\n",
       "      <td>2000</td>\n",
       "      <td>11890376.0</td>\n",
       "      <td>32321000.0</td>\n",
       "      <td>27182.0</td>\n",
       "      <td>6699.0</td>\n",
       "      <td>9366.0</td>\n",
       "      <td>1771194.0</td>\n",
       "      <td>201960.0</td>\n",
       "      <td>Crops total (Emissions N2O)</td>\n",
       "      <td>6.4353</td>\n",
       "      <td>3568843</td>\n",
       "      <td>Land area</td>\n",
       "      <td>835814.0</td>\n",
       "      <td>Pesticides (total)</td>\n",
       "      <td>141130.0</td>\n",
       "      <td>Cropland phosphorus per unit area</td>\n",
       "      <td>Mineral fertilizers</td>\n",
       "      <td>19.3971</td>\n",
       "    </tr>\n",
       "    <tr>\n",
       "      <th>2</th>\n",
       "      <td>Brazil</td>\n",
       "      <td>Maize (corn)</td>\n",
       "      <td>2000</td>\n",
       "      <td>11890376.0</td>\n",
       "      <td>32321000.0</td>\n",
       "      <td>27182.0</td>\n",
       "      <td>6699.0</td>\n",
       "      <td>9366.0</td>\n",
       "      <td>1771194.0</td>\n",
       "      <td>201960.0</td>\n",
       "      <td>Crops total (Emissions N2O)</td>\n",
       "      <td>6.4353</td>\n",
       "      <td>3568843</td>\n",
       "      <td>Land area</td>\n",
       "      <td>835814.0</td>\n",
       "      <td>Pesticides (total)</td>\n",
       "      <td>141130.0</td>\n",
       "      <td>Cropland potassium per unit area</td>\n",
       "      <td>Mineral fertilizers</td>\n",
       "      <td>40.2513</td>\n",
       "    </tr>\n",
       "    <tr>\n",
       "      <th>3</th>\n",
       "      <td>Brazil</td>\n",
       "      <td>Maize (corn)</td>\n",
       "      <td>2000</td>\n",
       "      <td>11890376.0</td>\n",
       "      <td>32321000.0</td>\n",
       "      <td>27182.0</td>\n",
       "      <td>6699.0</td>\n",
       "      <td>9366.0</td>\n",
       "      <td>1771194.0</td>\n",
       "      <td>201960.0</td>\n",
       "      <td>Crops total (Emissions N2O)</td>\n",
       "      <td>6.4353</td>\n",
       "      <td>3568843</td>\n",
       "      <td>Land area</td>\n",
       "      <td>835814.0</td>\n",
       "      <td>Pesticides (total)</td>\n",
       "      <td>141130.0</td>\n",
       "      <td>Cropland nitrogen per unit area</td>\n",
       "      <td>Manure applied to Soils</td>\n",
       "      <td>21.9175</td>\n",
       "    </tr>\n",
       "    <tr>\n",
       "      <th>4</th>\n",
       "      <td>Brazil</td>\n",
       "      <td>Maize (corn)</td>\n",
       "      <td>2000</td>\n",
       "      <td>11890376.0</td>\n",
       "      <td>32321000.0</td>\n",
       "      <td>27182.0</td>\n",
       "      <td>6699.0</td>\n",
       "      <td>9366.0</td>\n",
       "      <td>1771194.0</td>\n",
       "      <td>201960.0</td>\n",
       "      <td>Crops total (Emissions N2O)</td>\n",
       "      <td>6.4353</td>\n",
       "      <td>3568843</td>\n",
       "      <td>Land area</td>\n",
       "      <td>835814.0</td>\n",
       "      <td>Pesticides (total)</td>\n",
       "      <td>141130.0</td>\n",
       "      <td>Cropland phosphorus per unit area</td>\n",
       "      <td>Manure applied to Soils</td>\n",
       "      <td>5.3077</td>\n",
       "    </tr>\n",
       "  </tbody>\n",
       "</table>\n",
       "</div>"
      ],
      "text/plain": [
       "  Country     Crop_Name  Year  Area harvested_ha  Production_t  \\\n",
       "0  Brazil  Maize (corn)  2000         11890376.0    32321000.0   \n",
       "1  Brazil  Maize (corn)  2000         11890376.0    32321000.0   \n",
       "2  Brazil  Maize (corn)  2000         11890376.0    32321000.0   \n",
       "3  Brazil  Maize (corn)  2000         11890376.0    32321000.0   \n",
       "4  Brazil  Maize (corn)  2000         11890376.0    32321000.0   \n",
       "\n",
       "   Yield_100 g/ha  Export Quantity_t  Export Value_1000 USD  \\\n",
       "0         27182.0             6699.0                 9366.0   \n",
       "1         27182.0             6699.0                 9366.0   \n",
       "2         27182.0             6699.0                 9366.0   \n",
       "3         27182.0             6699.0                 9366.0   \n",
       "4         27182.0             6699.0                 9366.0   \n",
       "\n",
       "   Import Quantity_t  Import Value_1000 USD                Emission_type  \\\n",
       "0          1771194.0               201960.0  Crops total (Emissions N2O)   \n",
       "1          1771194.0               201960.0  Crops total (Emissions N2O)   \n",
       "2          1771194.0               201960.0  Crops total (Emissions N2O)   \n",
       "3          1771194.0               201960.0  Crops total (Emissions N2O)   \n",
       "4          1771194.0               201960.0  Crops total (Emissions N2O)   \n",
       "\n",
       "   Emission_Value_kt  Gross_Production_Value_1000 USD  Area_type  \\\n",
       "0             6.4353                          3568843  Land area   \n",
       "1             6.4353                          3568843  Land area   \n",
       "2             6.4353                          3568843  Land area   \n",
       "3             6.4353                          3568843  Land area   \n",
       "4             6.4353                          3568843  Land area   \n",
       "\n",
       "   Area_Value_1000 ha      Pesticide_Type  Pesticide_Value_t  \\\n",
       "0            835814.0  Pesticides (total)           141130.0   \n",
       "1            835814.0  Pesticides (total)           141130.0   \n",
       "2            835814.0  Pesticides (total)           141130.0   \n",
       "3            835814.0  Pesticides (total)           141130.0   \n",
       "4            835814.0  Pesticides (total)           141130.0   \n",
       "\n",
       "  Cropland_Nutrient_Management_Metrics            Input_Factors  \\\n",
       "0      Cropland nitrogen per unit area      Mineral fertilizers   \n",
       "1    Cropland phosphorus per unit area      Mineral fertilizers   \n",
       "2     Cropland potassium per unit area      Mineral fertilizers   \n",
       "3      Cropland nitrogen per unit area  Manure applied to Soils   \n",
       "4    Cropland phosphorus per unit area  Manure applied to Soils   \n",
       "\n",
       "   Fertilizer_Usage_Value_kg/ha  \n",
       "0                       30.0631  \n",
       "1                       19.3971  \n",
       "2                       40.2513  \n",
       "3                       21.9175  \n",
       "4                        5.3077  "
      ]
     },
     "execution_count": 56,
     "metadata": {},
     "output_type": "execute_result"
    }
   ],
   "source": [
    "merged_df.head()"
   ]
  },
  {
   "cell_type": "code",
   "execution_count": 57,
   "id": "5210a9f7",
   "metadata": {},
   "outputs": [
    {
     "data": {
      "text/plain": [
       "(59076, 20)"
      ]
     },
     "execution_count": 57,
     "metadata": {},
     "output_type": "execute_result"
    }
   ],
   "source": [
    "merged_df.shape"
   ]
  },
  {
   "cell_type": "code",
   "execution_count": 58,
   "id": "2081887d",
   "metadata": {
    "scrolled": true
   },
   "outputs": [
    {
     "name": "stdout",
     "output_type": "stream",
     "text": [
      "<class 'pandas.core.frame.DataFrame'>\n",
      "Int64Index: 59076 entries, 0 to 59075\n",
      "Data columns (total 20 columns):\n",
      " #   Column                                Non-Null Count  Dtype  \n",
      "---  ------                                --------------  -----  \n",
      " 0   Country                               59076 non-null  object \n",
      " 1   Crop_Name                             59076 non-null  object \n",
      " 2   Year                                  59076 non-null  int64  \n",
      " 3   Area harvested_ha                     59076 non-null  float64\n",
      " 4   Production_t                          59076 non-null  float64\n",
      " 5   Yield_100 g/ha                        59076 non-null  float64\n",
      " 6   Export Quantity_t                     59076 non-null  float64\n",
      " 7   Export Value_1000 USD                 59076 non-null  float64\n",
      " 8   Import Quantity_t                     59076 non-null  float64\n",
      " 9   Import Value_1000 USD                 59076 non-null  float64\n",
      " 10  Emission_type                         59076 non-null  object \n",
      " 11  Emission_Value_kt                     59076 non-null  float64\n",
      " 12  Gross_Production_Value_1000 USD       59076 non-null  int64  \n",
      " 13  Area_type                             59076 non-null  object \n",
      " 14  Area_Value_1000 ha                    59076 non-null  float64\n",
      " 15  Pesticide_Type                        59076 non-null  object \n",
      " 16  Pesticide_Value_t                     59076 non-null  float64\n",
      " 17  Cropland_Nutrient_Management_Metrics  59076 non-null  object \n",
      " 18  Input_Factors                         59076 non-null  object \n",
      " 19  Fertilizer_Usage_Value_kg/ha          59076 non-null  float64\n",
      "dtypes: float64(11), int64(2), object(7)\n",
      "memory usage: 9.5+ MB\n"
     ]
    }
   ],
   "source": [
    "merged_df.info()"
   ]
  },
  {
   "cell_type": "markdown",
   "id": "e5affa18",
   "metadata": {},
   "source": [
    "## Feature Engineering"
   ]
  },
  {
   "cell_type": "code",
   "execution_count": 59,
   "id": "8f990563",
   "metadata": {},
   "outputs": [
    {
     "name": "stdout",
     "output_type": "stream",
     "text": [
      "   Year  Year_sin  Year_cos\n",
      "0  2000 -0.065242   0.99787\n",
      "1  2000 -0.065242   0.99787\n",
      "2  2000 -0.065242   0.99787\n",
      "3  2000 -0.065242   0.99787\n",
      "4  2000 -0.065242   0.99787\n"
     ]
    }
   ],
   "source": [
    "year = merged_df['Year']\n",
    "\n",
    "# Sinusoidal Transformation\n",
    "merged_df['Year_sin'] = np.sin(2 * np.pi * year / max(year))\n",
    "merged_df['Year_cos'] = np.cos(2 * np.pi * year / max(year))\n",
    "\n",
    "# Display the modified DataFrame\n",
    "print(merged_df[['Year', 'Year_sin', 'Year_cos']].head())"
   ]
  },
  {
   "cell_type": "code",
   "execution_count": 60,
   "id": "8480d83f",
   "metadata": {},
   "outputs": [],
   "source": [
    "# Emission-related Interaction Features\n",
    "merged_df['Emission_to_Production_ratio'] = merged_df['Emission_Value_kt'] / merged_df['Production_t']\n",
    "merged_df['Emission_to_Area_ratio'] = merged_df['Emission_Value_kt'] / merged_df['Area harvested_ha']\n",
    "merged_df['Emission_Value_per_Pesticide'] = merged_df['Emission_Value_kt'] / merged_df['Pesticide_Value_t']\n",
    "\n",
    "# Land Use-related Interaction Features\n",
    "merged_df['Area_to_Production_ratio'] = merged_df['Area harvested_ha'] / merged_df['Production_t']\n",
    "merged_df['Area_Value_to_Pesticide_ratio'] = merged_df['Area_Value_1000 ha'] / merged_df['Pesticide_Value_t']\n",
    "\n",
    "# Pesticide-related Interaction Features\n",
    "merged_df['Pesticide_to_Production_ratio'] = merged_df['Pesticide_Value_t'] / merged_df['Production_t']\n",
    "\n",
    "# Trade related Interaction features\n",
    "merged_df['Export_to_Production_ratio'] = merged_df['Export Quantity_t'] / merged_df['Production_t']\n",
    "merged_df['Import_to_Production_ratio'] = merged_df['Import Quantity_t'] / merged_df['Production_t']\n"
   ]
  },
  {
   "cell_type": "code",
   "execution_count": 61,
   "id": "a77b7333",
   "metadata": {},
   "outputs": [],
   "source": [
    "# Compute aggregate statistics across different groups\n",
    "\n",
    "# Mean production by country\n",
    "country_production_mean = merged_df.groupby('Country')['Production_t'].mean()\n",
    "merged_df['Country_Production_Mean'] = merged_df['Country'].map(country_production_mean)\n",
    "\n",
    "# Median production by crop name\n",
    "crop_production_median = merged_df.groupby('Crop_Name')['Production_t'].median()\n",
    "merged_df['Crop_Production_Median'] = merged_df['Crop_Name'].map(crop_production_median)\n",
    "\n",
    "# Sum of pesticide usage by year\n",
    "yearly_pesticide_sum = merged_df.groupby('Year')['Pesticide_Value_t'].sum()\n",
    "merged_df['Yearly_Pesticide_Sum'] = merged_df['Year'].map(yearly_pesticide_sum)\n",
    "\n",
    "# Standard deviation of yield by country\n",
    "country_yield_std = merged_df.groupby('Country')['Yield_100 g/ha'].std()\n",
    "merged_df['Country_Yield_Std'] = merged_df['Country'].map(country_yield_std)\n",
    "\n",
    "# Total emission value by crop name\n",
    "crop_emission_total = merged_df.groupby('Crop_Name')['Emission_Value_kt'].sum()\n",
    "merged_df['Crop_Emission_Total'] = merged_df['Crop_Name'].map(crop_emission_total)"
   ]
  },
  {
   "cell_type": "code",
   "execution_count": 65,
   "id": "9d9a3a61",
   "metadata": {},
   "outputs": [],
   "source": [
    "# Dropping duplicates\n",
    "merged_df.drop_duplicates(inplace=True)"
   ]
  },
  {
   "cell_type": "code",
   "execution_count": 66,
   "id": "ff126591",
   "metadata": {},
   "outputs": [
    {
     "data": {
      "text/html": [
       "<div>\n",
       "<style scoped>\n",
       "    .dataframe tbody tr th:only-of-type {\n",
       "        vertical-align: middle;\n",
       "    }\n",
       "\n",
       "    .dataframe tbody tr th {\n",
       "        vertical-align: top;\n",
       "    }\n",
       "\n",
       "    .dataframe thead th {\n",
       "        text-align: right;\n",
       "    }\n",
       "</style>\n",
       "<table border=\"1\" class=\"dataframe\">\n",
       "  <thead>\n",
       "    <tr style=\"text-align: right;\">\n",
       "      <th></th>\n",
       "      <th>Country</th>\n",
       "      <th>Crop_Name</th>\n",
       "      <th>Year</th>\n",
       "      <th>Area harvested_ha</th>\n",
       "      <th>Production_t</th>\n",
       "      <th>Yield_100 g/ha</th>\n",
       "      <th>Export Quantity_t</th>\n",
       "      <th>Export Value_1000 USD</th>\n",
       "      <th>Import Quantity_t</th>\n",
       "      <th>Import Value_1000 USD</th>\n",
       "      <th>...</th>\n",
       "      <th>Area_to_Production_ratio</th>\n",
       "      <th>Area_Value_to_Pesticide_ratio</th>\n",
       "      <th>Pesticide_to_Production_ratio</th>\n",
       "      <th>Export_to_Production_ratio</th>\n",
       "      <th>Import_to_Production_ratio</th>\n",
       "      <th>Country_Production_Mean</th>\n",
       "      <th>Crop_Production_Median</th>\n",
       "      <th>Yearly_Pesticide_Sum</th>\n",
       "      <th>Country_Yield_Std</th>\n",
       "      <th>Crop_Emission_Total</th>\n",
       "    </tr>\n",
       "  </thead>\n",
       "  <tbody>\n",
       "    <tr>\n",
       "      <th>0</th>\n",
       "      <td>Brazil</td>\n",
       "      <td>Maize (corn)</td>\n",
       "      <td>2000</td>\n",
       "      <td>11890376.0</td>\n",
       "      <td>32321000.0</td>\n",
       "      <td>27182.0</td>\n",
       "      <td>6699.0</td>\n",
       "      <td>9366.0</td>\n",
       "      <td>1771194.0</td>\n",
       "      <td>201960.0</td>\n",
       "      <td>...</td>\n",
       "      <td>0.367884</td>\n",
       "      <td>5.922299</td>\n",
       "      <td>0.004367</td>\n",
       "      <td>0.000207</td>\n",
       "      <td>0.0548</td>\n",
       "      <td>3.514974e+07</td>\n",
       "      <td>106178315.0</td>\n",
       "      <td>3.271649e+08</td>\n",
       "      <td>13073.599468</td>\n",
       "      <td>764660.6388</td>\n",
       "    </tr>\n",
       "    <tr>\n",
       "      <th>1</th>\n",
       "      <td>Brazil</td>\n",
       "      <td>Maize (corn)</td>\n",
       "      <td>2000</td>\n",
       "      <td>11890376.0</td>\n",
       "      <td>32321000.0</td>\n",
       "      <td>27182.0</td>\n",
       "      <td>6699.0</td>\n",
       "      <td>9366.0</td>\n",
       "      <td>1771194.0</td>\n",
       "      <td>201960.0</td>\n",
       "      <td>...</td>\n",
       "      <td>0.367884</td>\n",
       "      <td>5.922299</td>\n",
       "      <td>0.004367</td>\n",
       "      <td>0.000207</td>\n",
       "      <td>0.0548</td>\n",
       "      <td>3.514974e+07</td>\n",
       "      <td>106178315.0</td>\n",
       "      <td>3.271649e+08</td>\n",
       "      <td>13073.599468</td>\n",
       "      <td>764660.6388</td>\n",
       "    </tr>\n",
       "    <tr>\n",
       "      <th>2</th>\n",
       "      <td>Brazil</td>\n",
       "      <td>Maize (corn)</td>\n",
       "      <td>2000</td>\n",
       "      <td>11890376.0</td>\n",
       "      <td>32321000.0</td>\n",
       "      <td>27182.0</td>\n",
       "      <td>6699.0</td>\n",
       "      <td>9366.0</td>\n",
       "      <td>1771194.0</td>\n",
       "      <td>201960.0</td>\n",
       "      <td>...</td>\n",
       "      <td>0.367884</td>\n",
       "      <td>5.922299</td>\n",
       "      <td>0.004367</td>\n",
       "      <td>0.000207</td>\n",
       "      <td>0.0548</td>\n",
       "      <td>3.514974e+07</td>\n",
       "      <td>106178315.0</td>\n",
       "      <td>3.271649e+08</td>\n",
       "      <td>13073.599468</td>\n",
       "      <td>764660.6388</td>\n",
       "    </tr>\n",
       "    <tr>\n",
       "      <th>3</th>\n",
       "      <td>Brazil</td>\n",
       "      <td>Maize (corn)</td>\n",
       "      <td>2000</td>\n",
       "      <td>11890376.0</td>\n",
       "      <td>32321000.0</td>\n",
       "      <td>27182.0</td>\n",
       "      <td>6699.0</td>\n",
       "      <td>9366.0</td>\n",
       "      <td>1771194.0</td>\n",
       "      <td>201960.0</td>\n",
       "      <td>...</td>\n",
       "      <td>0.367884</td>\n",
       "      <td>5.922299</td>\n",
       "      <td>0.004367</td>\n",
       "      <td>0.000207</td>\n",
       "      <td>0.0548</td>\n",
       "      <td>3.514974e+07</td>\n",
       "      <td>106178315.0</td>\n",
       "      <td>3.271649e+08</td>\n",
       "      <td>13073.599468</td>\n",
       "      <td>764660.6388</td>\n",
       "    </tr>\n",
       "    <tr>\n",
       "      <th>4</th>\n",
       "      <td>Brazil</td>\n",
       "      <td>Maize (corn)</td>\n",
       "      <td>2000</td>\n",
       "      <td>11890376.0</td>\n",
       "      <td>32321000.0</td>\n",
       "      <td>27182.0</td>\n",
       "      <td>6699.0</td>\n",
       "      <td>9366.0</td>\n",
       "      <td>1771194.0</td>\n",
       "      <td>201960.0</td>\n",
       "      <td>...</td>\n",
       "      <td>0.367884</td>\n",
       "      <td>5.922299</td>\n",
       "      <td>0.004367</td>\n",
       "      <td>0.000207</td>\n",
       "      <td>0.0548</td>\n",
       "      <td>3.514974e+07</td>\n",
       "      <td>106178315.0</td>\n",
       "      <td>3.271649e+08</td>\n",
       "      <td>13073.599468</td>\n",
       "      <td>764660.6388</td>\n",
       "    </tr>\n",
       "  </tbody>\n",
       "</table>\n",
       "<p>5 rows × 35 columns</p>\n",
       "</div>"
      ],
      "text/plain": [
       "  Country     Crop_Name  Year  Area harvested_ha  Production_t  \\\n",
       "0  Brazil  Maize (corn)  2000         11890376.0    32321000.0   \n",
       "1  Brazil  Maize (corn)  2000         11890376.0    32321000.0   \n",
       "2  Brazil  Maize (corn)  2000         11890376.0    32321000.0   \n",
       "3  Brazil  Maize (corn)  2000         11890376.0    32321000.0   \n",
       "4  Brazil  Maize (corn)  2000         11890376.0    32321000.0   \n",
       "\n",
       "   Yield_100 g/ha  Export Quantity_t  Export Value_1000 USD  \\\n",
       "0         27182.0             6699.0                 9366.0   \n",
       "1         27182.0             6699.0                 9366.0   \n",
       "2         27182.0             6699.0                 9366.0   \n",
       "3         27182.0             6699.0                 9366.0   \n",
       "4         27182.0             6699.0                 9366.0   \n",
       "\n",
       "   Import Quantity_t  Import Value_1000 USD  ... Area_to_Production_ratio  \\\n",
       "0          1771194.0               201960.0  ...                 0.367884   \n",
       "1          1771194.0               201960.0  ...                 0.367884   \n",
       "2          1771194.0               201960.0  ...                 0.367884   \n",
       "3          1771194.0               201960.0  ...                 0.367884   \n",
       "4          1771194.0               201960.0  ...                 0.367884   \n",
       "\n",
       "   Area_Value_to_Pesticide_ratio  Pesticide_to_Production_ratio  \\\n",
       "0                       5.922299                       0.004367   \n",
       "1                       5.922299                       0.004367   \n",
       "2                       5.922299                       0.004367   \n",
       "3                       5.922299                       0.004367   \n",
       "4                       5.922299                       0.004367   \n",
       "\n",
       "  Export_to_Production_ratio  Import_to_Production_ratio  \\\n",
       "0                   0.000207                      0.0548   \n",
       "1                   0.000207                      0.0548   \n",
       "2                   0.000207                      0.0548   \n",
       "3                   0.000207                      0.0548   \n",
       "4                   0.000207                      0.0548   \n",
       "\n",
       "  Country_Production_Mean  Crop_Production_Median Yearly_Pesticide_Sum  \\\n",
       "0            3.514974e+07             106178315.0         3.271649e+08   \n",
       "1            3.514974e+07             106178315.0         3.271649e+08   \n",
       "2            3.514974e+07             106178315.0         3.271649e+08   \n",
       "3            3.514974e+07             106178315.0         3.271649e+08   \n",
       "4            3.514974e+07             106178315.0         3.271649e+08   \n",
       "\n",
       "  Country_Yield_Std  Crop_Emission_Total  \n",
       "0      13073.599468          764660.6388  \n",
       "1      13073.599468          764660.6388  \n",
       "2      13073.599468          764660.6388  \n",
       "3      13073.599468          764660.6388  \n",
       "4      13073.599468          764660.6388  \n",
       "\n",
       "[5 rows x 35 columns]"
      ]
     },
     "execution_count": 66,
     "metadata": {},
     "output_type": "execute_result"
    }
   ],
   "source": [
    "merged_df.head()"
   ]
  },
  {
   "cell_type": "code",
   "execution_count": 67,
   "id": "dd7507fb",
   "metadata": {},
   "outputs": [
    {
     "data": {
      "text/plain": [
       "(59076, 35)"
      ]
     },
     "execution_count": 67,
     "metadata": {},
     "output_type": "execute_result"
    }
   ],
   "source": [
    "merged_df.shape"
   ]
  },
  {
   "cell_type": "markdown",
   "id": "ca9f5578",
   "metadata": {},
   "source": [
    "## Feature Engineering Summary\n",
    "\n",
    "In the feature engineering process for our machine learning project, we applied various techniques to enhance the dataset and create informative features. Here's a breakdown of the feature engineering steps:\n",
    "\n",
    "1. **Sinusoidal Transformation of Year**: We transformed the 'Year' variable into two new features, 'Year_sin' and 'Year_cos', using a sinusoidal transformation. These features capture the cyclical nature of the year, allowing our models to account for seasonal patterns.\n",
    "\n",
    "2. **Interaction Features**: We created several interaction features to capture relationships between different variables. These included emission-related, land use-related, pesticide-related, and trade-related interaction features. These interactions help incorporate the combined effects of multiple variables into our analysis.\n",
    "\n",
    "3. **Aggregate Statistics**: We computed aggregate statistics across different groups in the dataset. For example, we calculated the mean production by country, median production by crop name, sum of pesticide usage by year, standard deviation of yield by country, and total emission value by crop name. These aggregate statistics provide additional insights into the dataset and can be useful for modeling purposes.\n",
    "\n",
    "By performing these feature engineering steps, we enriched our dataset with new information and transformed existing variables to better capture the underlying patterns and relationships. These engineered features can potentially improve the performance of our machine learning models and enhance the interpretability of our analysis.\n",
    "\n",
    "If further adjustments or additional feature engineering steps are needed, we can iteratively refine our approach based on the insights gained from exploratory data analysis (EDA) and model evaluation."
   ]
  },
  {
   "cell_type": "code",
   "execution_count": 63,
   "id": "ac28aa5f",
   "metadata": {},
   "outputs": [],
   "source": [
    "merged_df.to_csv('merged_file.csv', index=False)"
   ]
  }
 ],
 "metadata": {
  "kernelspec": {
   "display_name": "Python 3 (ipykernel)",
   "language": "python",
   "name": "python3"
  },
  "language_info": {
   "codemirror_mode": {
    "name": "ipython",
    "version": 3
   },
   "file_extension": ".py",
   "mimetype": "text/x-python",
   "name": "python",
   "nbconvert_exporter": "python",
   "pygments_lexer": "ipython3",
   "version": "3.10.9"
  }
 },
 "nbformat": 4,
 "nbformat_minor": 5
}
